{
 "cells": [
  {
   "cell_type": "markdown",
   "id": "192af800",
   "metadata": {},
   "source": [
    "# Диплом"
   ]
  },
  {
   "cell_type": "markdown",
   "id": "33d3b9d8",
   "metadata": {},
   "source": [
    "1. Победа над чудовищем (Одоление монстра)\n",
    "2. Из грязи - в князи\n",
    "3. Путешествие и возвращение домой\n",
    "4. Приключение (Квест)\n",
    "5. Возрождение (Воскресение)\n",
    "6. Комедия\n",
    "7. Трагедия\n",
    "\n",
    "https://kulturolog-ia.livejournal.com/556214.html\n",
    "\n",
    "https://shichengaru.livejournal.com/818556.html\n",
    "\n",
    "https://dzen.ru/a/YN7BD5--mhoEfbbG"
   ]
  },
  {
   "cell_type": "code",
   "execution_count": 1,
   "id": "c5a53918",
   "metadata": {},
   "outputs": [],
   "source": [
    "import pandas as pd\n",
    "import numpy as np\n",
    "import wget\n",
    "import warnings\n",
    "import ebooklib\n",
    "import os\n",
    "import seaborn as sns\n",
    "import nltk\n",
    "import string\n",
    "import pymorphy2\n",
    "import re\n",
    "import spacy\n",
    "import datetime\n",
    "import sys\n",
    "import codecs\n",
    "import tokenization\n",
    "import torch\n",
    "import torch.nn as nn\n",
    "import torch.nn.functional as F\n",
    "import torchvision\n",
    "import torchvision.transforms as trchv_transforms\n",
    "import gensim\n",
    "import plotly.graph_objects as go\n",
    "\n",
    "from sklearn.feature_extraction.text import TfidfVectorizer # TF-IDF\n",
    "from sklearn.feature_extraction.text import TfidfTransformer\n",
    "from sklearn.feature_extraction.text import CountVectorizer\n",
    "# from russiannames import \n",
    "# from PyPeopleNames import PyPeopleNames\n",
    "\n",
    "from sklearn.naive_bayes import GaussianNB\n",
    "from sklearn.linear_model import LogisticRegression\n",
    "from sklearn import svm\n",
    "from sklearn.tree import DecisionTreeClassifier\n",
    "from sklearn.ensemble import AdaBoostClassifier\n",
    "from sklearn.ensemble import GradientBoostingClassifier\n",
    "\n",
    "from sklearn.model_selection import cross_val_predict\n",
    "from sklearn.model_selection import StratifiedKFold\n",
    "from sklearn.metrics import log_loss, accuracy_score\n",
    "from gensim.models import Word2Vec, FastText\n",
    "from transformers import get_linear_schedule_with_warmup\n",
    "from transformers import BertForSequenceClassification\n",
    "from transformers import BertTokenizer\n",
    "from sklearn.metrics import precision_recall_fscore_support\n",
    "from transformers import AdamW\n",
    "from sklearn.decomposition import PCA\n",
    "from torch.utils.data import DataLoader\n",
    "from keras_bert import load_trained_model_from_checkpoint\n",
    "from pymystem3 import Mystem\n",
    "from tqdm import tqdm # progress_apply istead apply\n",
    "from ebooklib import epub\n",
    "from epub2txt import epub2txt\n",
    "from bs4 import BeautifulSoup\n",
    "from nltk.tokenize import sent_tokenize, word_tokenize\n",
    "from nltk.corpus import stopwords\n",
    "from nltk.probability import FreqDist\n",
    "from nltk.stem import PorterStemmer\n",
    "from nltk import ne_chunk, pos_tag, word_tokenize\n",
    "from nltk.tree import Tree\n",
    "from sklearn.model_selection import train_test_split\n",
    "from bert_dataset import CustomDataset\n",
    "from bert_classifier import BertClassifier\n",
    "from matplotlib import pyplot as plt\n",
    "from matplotlib.pyplot import figure\n",
    "\n",
    "# from russian_names import RussianNames\n"
   ]
  },
  {
   "cell_type": "code",
   "execution_count": 2,
   "id": "8b59f8fc",
   "metadata": {},
   "outputs": [],
   "source": [
    "tqdm.pandas()"
   ]
  },
  {
   "cell_type": "code",
   "execution_count": 3,
   "id": "d0e31668",
   "metadata": {},
   "outputs": [],
   "source": [
    "warnings.filterwarnings('ignore')\n",
    "warnings.simplefilter('ignore')\n",
    "\n",
    "# from IPython.display import HTML\n",
    "# display(HTML(\"<style>.container { width:70% !important; }</style>\"))"
   ]
  },
  {
   "cell_type": "markdown",
   "id": "3820ee0d",
   "metadata": {},
   "source": [
    "!!! Главы не теряются !!!"
   ]
  },
  {
   "cell_type": "markdown",
   "id": "b41650ac",
   "metadata": {},
   "source": [
    "https://habr.com/ru/post/517410/"
   ]
  },
  {
   "cell_type": "markdown",
   "id": "a64ae699",
   "metadata": {},
   "source": [
    "https://habr.com/ru/company/otus/blog/705482/"
   ]
  },
  {
   "cell_type": "markdown",
   "id": "ad2992de",
   "metadata": {},
   "source": [
    "https://habr.com/ru/company/otus/blog/687796/"
   ]
  },
  {
   "cell_type": "markdown",
   "id": "436370e5",
   "metadata": {},
   "source": [
    "## Формируем датасет книг и тегов\n",
    "\n",
    "https://medium.com/@zazazakaria18/turn-your-ebook-to-text-with-python-in-seconds-2a1e42804913"
   ]
  },
  {
   "cell_type": "markdown",
   "id": "b58a4a50",
   "metadata": {},
   "source": [
    "### *.epub книги в pandas dataframe"
   ]
  },
  {
   "cell_type": "code",
   "execution_count": 4,
   "id": "97cdfb37",
   "metadata": {},
   "outputs": [],
   "source": [
    "# def epub2html(epub_path):\n",
    "    \n",
    "#     book = epub.read_epub(epub_path)\n",
    "#     chapters = []\n",
    "    \n",
    "#     for item in book.get_items():\n",
    "#         if item.get_type() == ebooklib.ITEM_DOCUMENT:\n",
    "#             chapters.append(item.get_content())\n",
    "            \n",
    "#     return chapters"
   ]
  },
  {
   "cell_type": "code",
   "execution_count": 5,
   "id": "7f564db6",
   "metadata": {},
   "outputs": [],
   "source": [
    "# blacklist = ['[document]', 'noscript', 'header', 'html', 'meta', 'head', 'input', 'script', 'style']"
   ]
  },
  {
   "cell_type": "code",
   "execution_count": 6,
   "id": "1badb774",
   "metadata": {},
   "outputs": [],
   "source": [
    "# def chap2text(chap):\n",
    "    \n",
    "#     output = ''\n",
    "#     soup = BeautifulSoup(chap, 'html.parser')\n",
    "#     text = soup.find_all(text=True)\n",
    "    \n",
    "#     for t in text:\n",
    "#         if t.parent.name not in blacklist:\n",
    "#             output += '{} '.format(t)\n",
    "            \n",
    "#     return output"
   ]
  },
  {
   "cell_type": "code",
   "execution_count": 7,
   "id": "eb72f009",
   "metadata": {},
   "outputs": [],
   "source": [
    "# def html2text(thtml):\n",
    "    \n",
    "#     output = []\n",
    "    \n",
    "#     for html in thtml:\n",
    "#         text = chap2text(html)\n",
    "#         output.append(text)\n",
    "        \n",
    "#     return output"
   ]
  },
  {
   "cell_type": "code",
   "execution_count": 8,
   "id": "be5d41a1",
   "metadata": {},
   "outputs": [],
   "source": [
    "# def epub2text(epub_path):\n",
    "#     chapters = epub2html(epub_path)\n",
    "#     text = html2text(chapters)\n",
    "#     return text"
   ]
  },
  {
   "cell_type": "code",
   "execution_count": 9,
   "id": "a5f56f79",
   "metadata": {},
   "outputs": [
    {
     "name": "stderr",
     "output_type": "stream",
     "text": [
      "[W 230204 13:07:13 epub2txt:98]  toc_uids exc: 'Section' object has no attribute 'uid'\n",
      "[W 230204 13:07:13 epub2txt:98]  toc_uids exc: 'Section' object has no attribute 'uid'\n",
      "[W 230204 13:07:13 epub2txt:98]  toc_uids exc: 'Section' object has no attribute 'uid'\n",
      "[W 230204 13:07:14 epub2txt:98]  toc_uids exc: 'Section' object has no attribute 'uid'\n",
      "[W 230204 13:07:14 epub2txt:98]  toc_uids exc: 'Section' object has no attribute 'uid'\n",
      "[W 230204 13:07:14 epub2txt:98]  toc_uids exc: 'Section' object has no attribute 'uid'\n",
      "[W 230204 13:07:14 epub2txt:98]  toc_uids exc: 'Section' object has no attribute 'uid'\n",
      "[W 230204 13:07:14 epub2txt:98]  toc_uids exc: 'Section' object has no attribute 'uid'\n",
      "[W 230204 13:07:14 epub2txt:98]  toc_uids exc: 'Section' object has no attribute 'uid'\n",
      "[W 230204 13:07:14 epub2txt:98]  toc_uids exc: 'Section' object has no attribute 'uid'\n",
      "[W 230204 13:07:14 epub2txt:98]  toc_uids exc: 'Section' object has no attribute 'uid'\n",
      "[W 230204 13:07:14 epub2txt:98]  toc_uids exc: 'Section' object has no attribute 'uid'\n",
      "[W 230204 13:07:14 epub2txt:98]  toc_uids exc: 'Section' object has no attribute 'uid'\n",
      "[W 230204 13:07:14 epub2txt:98]  toc_uids exc: 'Section' object has no attribute 'uid'\n",
      "[W 230204 13:07:15 epub2txt:98]  toc_uids exc: 'Section' object has no attribute 'uid'\n",
      "[W 230204 13:07:15 epub2txt:98]  toc_uids exc: 'Section' object has no attribute 'uid'\n",
      "[W 230204 13:07:15 epub2txt:98]  toc_uids exc: 'Section' object has no attribute 'uid'\n"
     ]
    }
   ],
   "source": [
    "# идём по всем книгам, преобразовываем из epub в str, формируем датасет\n",
    "\n",
    "data = pd.DataFrame(columns=['Title', 'Text'])\n",
    "\n",
    "directory = 'books'\n",
    "\n",
    "index = 0\n",
    "\n",
    "for filename in os.listdir(directory):\n",
    "    \n",
    "    epub_path = os.path.join(directory, filename)\n",
    "    \n",
    "    if os.path.isfile(epub_path):\n",
    "        book_title = filename\n",
    "        book_text = epub2txt(epub_path)\n",
    "        data.loc[index] = [book_title, book_text]\n",
    "    \n",
    "    index += 1"
   ]
  },
  {
   "cell_type": "code",
   "execution_count": 10,
   "id": "fde00356",
   "metadata": {},
   "outputs": [
    {
     "data": {
      "text/html": [
       "<div>\n",
       "<style scoped>\n",
       "    .dataframe tbody tr th:only-of-type {\n",
       "        vertical-align: middle;\n",
       "    }\n",
       "\n",
       "    .dataframe tbody tr th {\n",
       "        vertical-align: top;\n",
       "    }\n",
       "\n",
       "    .dataframe thead th {\n",
       "        text-align: right;\n",
       "    }\n",
       "</style>\n",
       "<table border=\"1\" class=\"dataframe\">\n",
       "  <thead>\n",
       "    <tr style=\"text-align: right;\">\n",
       "      <th></th>\n",
       "      <th>Title</th>\n",
       "      <th>Text</th>\n",
       "    </tr>\n",
       "  </thead>\n",
       "  <tbody>\n",
       "    <tr>\n",
       "      <th>0</th>\n",
       "      <td>Анна Каренина.epub</td>\n",
       "      <td>\\nЛев Толстой\\nАнна Каренина\\nРоман «Широкого ...</td>\n",
       "    </tr>\n",
       "    <tr>\n",
       "      <th>1</th>\n",
       "      <td>Аэлита.epub</td>\n",
       "      <td>\\nСтранное объявление\\nНа улице Красных Зорь п...</td>\n",
       "    </tr>\n",
       "  </tbody>\n",
       "</table>\n",
       "</div>"
      ],
      "text/plain": [
       "                Title                                               Text\n",
       "0  Анна Каренина.epub  \\nЛев Толстой\\nАнна Каренина\\nРоман «Широкого ...\n",
       "1         Аэлита.epub  \\nСтранное объявление\\nНа улице Красных Зорь п..."
      ]
     },
     "execution_count": 10,
     "metadata": {},
     "output_type": "execute_result"
    }
   ],
   "source": [
    "data.head(2)"
   ]
  },
  {
   "cell_type": "markdown",
   "id": "400b2882",
   "metadata": {},
   "source": [
    "### Добавляем тэги"
   ]
  },
  {
   "cell_type": "code",
   "execution_count": 11,
   "id": "6f2bb353",
   "metadata": {},
   "outputs": [],
   "source": [
    "data_tags = pd.read_csv('tags/tags.txt', names=['Title', 'Tag'], dtype = {'Title': str, 'Tag': str})"
   ]
  },
  {
   "cell_type": "code",
   "execution_count": 12,
   "id": "3608ae08",
   "metadata": {},
   "outputs": [
    {
     "data": {
      "text/html": [
       "<div>\n",
       "<style scoped>\n",
       "    .dataframe tbody tr th:only-of-type {\n",
       "        vertical-align: middle;\n",
       "    }\n",
       "\n",
       "    .dataframe tbody tr th {\n",
       "        vertical-align: top;\n",
       "    }\n",
       "\n",
       "    .dataframe thead th {\n",
       "        text-align: right;\n",
       "    }\n",
       "</style>\n",
       "<table border=\"1\" class=\"dataframe\">\n",
       "  <thead>\n",
       "    <tr style=\"text-align: right;\">\n",
       "      <th></th>\n",
       "      <th>Title</th>\n",
       "      <th>Tag</th>\n",
       "    </tr>\n",
       "  </thead>\n",
       "  <tbody>\n",
       "    <tr>\n",
       "      <th>0</th>\n",
       "      <td>Гарри Поттер и Филосовский камень.epub</td>\n",
       "      <td>1</td>\n",
       "    </tr>\n",
       "    <tr>\n",
       "      <th>1</th>\n",
       "      <td>Гарри Поттер и Тайная Комната.epub</td>\n",
       "      <td>1</td>\n",
       "    </tr>\n",
       "  </tbody>\n",
       "</table>\n",
       "</div>"
      ],
      "text/plain": [
       "                                    Title Tag\n",
       "0  Гарри Поттер и Филосовский камень.epub   1\n",
       "1      Гарри Поттер и Тайная Комната.epub   1"
      ]
     },
     "execution_count": 12,
     "metadata": {},
     "output_type": "execute_result"
    }
   ],
   "source": [
    "data_tags.head(2)"
   ]
  },
  {
   "cell_type": "code",
   "execution_count": 13,
   "id": "956665c4",
   "metadata": {},
   "outputs": [
    {
     "data": {
      "text/html": [
       "<div>\n",
       "<style scoped>\n",
       "    .dataframe tbody tr th:only-of-type {\n",
       "        vertical-align: middle;\n",
       "    }\n",
       "\n",
       "    .dataframe tbody tr th {\n",
       "        vertical-align: top;\n",
       "    }\n",
       "\n",
       "    .dataframe thead th {\n",
       "        text-align: right;\n",
       "    }\n",
       "</style>\n",
       "<table border=\"1\" class=\"dataframe\">\n",
       "  <thead>\n",
       "    <tr style=\"text-align: right;\">\n",
       "      <th></th>\n",
       "      <th>Title</th>\n",
       "      <th>Text</th>\n",
       "      <th>Tag</th>\n",
       "    </tr>\n",
       "  </thead>\n",
       "  <tbody>\n",
       "    <tr>\n",
       "      <th>0</th>\n",
       "      <td>Анна Каренина.epub</td>\n",
       "      <td>\\nЛев Толстой\\nАнна Каренина\\nРоман «Широкого ...</td>\n",
       "      <td>7</td>\n",
       "    </tr>\n",
       "    <tr>\n",
       "      <th>1</th>\n",
       "      <td>Аэлита.epub</td>\n",
       "      <td>\\nСтранное объявление\\nНа улице Красных Зорь п...</td>\n",
       "      <td>3</td>\n",
       "    </tr>\n",
       "    <tr>\n",
       "      <th>2</th>\n",
       "      <td>Белый пароход.epub</td>\n",
       "      <td>\\nЧингиз Айтматов\\nБелый пароход\\n(ПОСЛЕ СКАЗК...</td>\n",
       "      <td>7</td>\n",
       "    </tr>\n",
       "    <tr>\n",
       "      <th>3</th>\n",
       "      <td>Беовульф.epub</td>\n",
       "      <td>Андрей Мартьянов\\nБеовульф\\nАвтор искренне бла...</td>\n",
       "      <td>1</td>\n",
       "    </tr>\n",
       "    <tr>\n",
       "      <th>4</th>\n",
       "      <td>Большие надежды.epub</td>\n",
       "      <td>\\nЧарльз Диккенс\\nБОЛЬШИЕ НАДЕЖДЫ\\nГлава I\\nФа...</td>\n",
       "      <td>2</td>\n",
       "    </tr>\n",
       "  </tbody>\n",
       "</table>\n",
       "</div>"
      ],
      "text/plain": [
       "                  Title                                               Text Tag\n",
       "0    Анна Каренина.epub  \\nЛев Толстой\\nАнна Каренина\\nРоман «Широкого ...   7\n",
       "1           Аэлита.epub  \\nСтранное объявление\\nНа улице Красных Зорь п...   3\n",
       "2    Белый пароход.epub  \\nЧингиз Айтматов\\nБелый пароход\\n(ПОСЛЕ СКАЗК...   7\n",
       "3         Беовульф.epub  Андрей Мартьянов\\nБеовульф\\nАвтор искренне бла...   1\n",
       "4  Большие надежды.epub  \\nЧарльз Диккенс\\nБОЛЬШИЕ НАДЕЖДЫ\\nГлава I\\nФа...   2"
      ]
     },
     "execution_count": 13,
     "metadata": {},
     "output_type": "execute_result"
    }
   ],
   "source": [
    "data = data.merge(data_tags, on='Title')\n",
    "data.head()"
   ]
  },
  {
   "cell_type": "code",
   "execution_count": 14,
   "id": "887d25c1",
   "metadata": {},
   "outputs": [
    {
     "data": {
      "text/plain": [
       "<AxesSubplot:xlabel='Tag', ylabel='count'>"
      ]
     },
     "execution_count": 14,
     "metadata": {},
     "output_type": "execute_result"
    },
    {
     "data": {
      "image/png": "[encoded data removed]",
      "text/plain": [
       "<Figure size 640x480 with 1 Axes>"
      ]
     },
     "metadata": {},
     "output_type": "display_data"
    }
   ],
   "source": [
    "sns.countplot(data=data, x=\"Tag\")"
   ]
  },
  {
   "cell_type": "markdown",
   "id": "783dd443",
   "metadata": {},
   "source": [
    "## Предварительная обработка (препроцессинг) текста"
   ]
  },
  {
   "cell_type": "markdown",
   "id": "2df039a8",
   "metadata": {},
   "source": [
    "### Очищаем текста от цифр и символов"
   ]
  },
  {
   "cell_type": "code",
   "execution_count": 15,
   "id": "c634a51d",
   "metadata": {},
   "outputs": [],
   "source": [
    "# def remove_chars_from_text(text, chars):\n",
    "#     return ''.join([ch for ch in text if ch not in chars])"
   ]
  },
  {
   "cell_type": "code",
   "execution_count": 16,
   "id": "e224e693",
   "metadata": {},
   "outputs": [],
   "source": [
    "data['Text'] = data.apply(lambda x: re.sub(\"[^а-яА-Я]\",\" \", str(x.Text)), axis=1)"
   ]
  },
  {
   "cell_type": "code",
   "execution_count": 17,
   "id": "48808b40",
   "metadata": {},
   "outputs": [
    {
     "data": {
      "text/html": [
       "<div>\n",
       "<style scoped>\n",
       "    .dataframe tbody tr th:only-of-type {\n",
       "        vertical-align: middle;\n",
       "    }\n",
       "\n",
       "    .dataframe tbody tr th {\n",
       "        vertical-align: top;\n",
       "    }\n",
       "\n",
       "    .dataframe thead th {\n",
       "        text-align: right;\n",
       "    }\n",
       "</style>\n",
       "<table border=\"1\" class=\"dataframe\">\n",
       "  <thead>\n",
       "    <tr style=\"text-align: right;\">\n",
       "      <th></th>\n",
       "      <th>Title</th>\n",
       "      <th>Text</th>\n",
       "      <th>Tag</th>\n",
       "    </tr>\n",
       "  </thead>\n",
       "  <tbody>\n",
       "    <tr>\n",
       "      <th>0</th>\n",
       "      <td>Анна Каренина.epub</td>\n",
       "      <td>Лев Толстой Анна Каренина Роман  Широкого дых...</td>\n",
       "      <td>7</td>\n",
       "    </tr>\n",
       "    <tr>\n",
       "      <th>1</th>\n",
       "      <td>Аэлита.epub</td>\n",
       "      <td>Странное объявление На улице Красных Зорь поя...</td>\n",
       "      <td>3</td>\n",
       "    </tr>\n",
       "    <tr>\n",
       "      <th>2</th>\n",
       "      <td>Белый пароход.epub</td>\n",
       "      <td>Чингиз Айтматов Белый пароход  ПОСЛЕ СКАЗКИ  ...</td>\n",
       "      <td>7</td>\n",
       "    </tr>\n",
       "    <tr>\n",
       "      <th>3</th>\n",
       "      <td>Беовульф.epub</td>\n",
       "      <td>Андрей Мартьянов Беовульф Автор искренне благо...</td>\n",
       "      <td>1</td>\n",
       "    </tr>\n",
       "    <tr>\n",
       "      <th>4</th>\n",
       "      <td>Большие надежды.epub</td>\n",
       "      <td>Чарльз Диккенс БОЛЬШИЕ НАДЕЖДЫ Глава   Фамили...</td>\n",
       "      <td>2</td>\n",
       "    </tr>\n",
       "  </tbody>\n",
       "</table>\n",
       "</div>"
      ],
      "text/plain": [
       "                  Title                                               Text Tag\n",
       "0    Анна Каренина.epub   Лев Толстой Анна Каренина Роман  Широкого дых...   7\n",
       "1           Аэлита.epub   Странное объявление На улице Красных Зорь поя...   3\n",
       "2    Белый пароход.epub   Чингиз Айтматов Белый пароход  ПОСЛЕ СКАЗКИ  ...   7\n",
       "3         Беовульф.epub  Андрей Мартьянов Беовульф Автор искренне благо...   1\n",
       "4  Большие надежды.epub   Чарльз Диккенс БОЛЬШИЕ НАДЕЖДЫ Глава   Фамили...   2"
      ]
     },
     "execution_count": 17,
     "metadata": {},
     "output_type": "execute_result"
    }
   ],
   "source": [
    "data.head()"
   ]
  },
  {
   "cell_type": "markdown",
   "id": "294870d0",
   "metadata": {},
   "source": [
    "### Получение списка с предполагаемыми именами"
   ]
  },
  {
   "cell_type": "code",
   "execution_count": 18,
   "id": "45034670",
   "metadata": {},
   "outputs": [],
   "source": [
    "# text = data['Text'].loc[0]\n",
    "# entities = []\n",
    "\n",
    "# nltk_results = ne_chunk(pos_tag(word_tokenize(text)))\n",
    "# for nltk_result in nltk_results:\n",
    "#     if type(nltk_result) == Tree:\n",
    "#         name = ''\n",
    "#         for nltk_result_leaf in nltk_result.leaves():\n",
    "#             name += nltk_result_leaf[0] + ' '\n",
    "#             entities.append(name)"
   ]
  },
  {
   "cell_type": "code",
   "execution_count": null,
   "id": "7f772dd0",
   "metadata": {},
   "outputs": [],
   "source": []
  },
  {
   "cell_type": "code",
   "execution_count": 19,
   "id": "e42fc5f9",
   "metadata": {},
   "outputs": [],
   "source": [
    "# def extract_entities(text):    \n",
    "#     entities = []\n",
    "    \n",
    "#     for sent in nltk.sent_tokenize(text):\n",
    "#        for chunk in nltk.ne_chunk(nltk.pos_tag(nltk.word_tokenize(sent))):\n",
    "#             if hasattr(chunk, 'label'):\n",
    "# #                 print (chunk.node, ' '.join(c[0] for c in chunk.leaves()))\n",
    "#                 entities.append(' '.join(c[0] for c in chunk.leaves()))\n",
    "                \n",
    "#     return entities"
   ]
  },
  {
   "cell_type": "code",
   "execution_count": 20,
   "id": "bb0a7edc",
   "metadata": {},
   "outputs": [],
   "source": [
    "# entities_temp = extract_entities(data['Text'].loc[0])"
   ]
  },
  {
   "cell_type": "code",
   "execution_count": 21,
   "id": "70089deb",
   "metadata": {},
   "outputs": [],
   "source": [
    "# entities = []\n",
    "\n",
    "# for item in entities_temp:\n",
    "#     entities.append(item.lower())"
   ]
  },
  {
   "cell_type": "code",
   "execution_count": 22,
   "id": "2638fae1",
   "metadata": {},
   "outputs": [],
   "source": [
    "# entities = np.unique(entities)\n",
    "# entities"
   ]
  },
  {
   "cell_type": "markdown",
   "id": "e3c3aa06",
   "metadata": {},
   "source": [
    "### Приводим к нижнему регистру все тексты"
   ]
  },
  {
   "cell_type": "code",
   "execution_count": 23,
   "id": "da8eb838",
   "metadata": {},
   "outputs": [],
   "source": [
    "# приводим к нижнему регистру все тексты\n",
    "data['Text'] = data.apply(lambda x: str(x.Text).lower(), axis=1)"
   ]
  },
  {
   "cell_type": "code",
   "execution_count": 24,
   "id": "3e5e8ffc",
   "metadata": {},
   "outputs": [
    {
     "data": {
      "text/html": [
       "<div>\n",
       "<style scoped>\n",
       "    .dataframe tbody tr th:only-of-type {\n",
       "        vertical-align: middle;\n",
       "    }\n",
       "\n",
       "    .dataframe tbody tr th {\n",
       "        vertical-align: top;\n",
       "    }\n",
       "\n",
       "    .dataframe thead th {\n",
       "        text-align: right;\n",
       "    }\n",
       "</style>\n",
       "<table border=\"1\" class=\"dataframe\">\n",
       "  <thead>\n",
       "    <tr style=\"text-align: right;\">\n",
       "      <th></th>\n",
       "      <th>Title</th>\n",
       "      <th>Text</th>\n",
       "      <th>Tag</th>\n",
       "    </tr>\n",
       "  </thead>\n",
       "  <tbody>\n",
       "    <tr>\n",
       "      <th>0</th>\n",
       "      <td>Анна Каренина.epub</td>\n",
       "      <td>лев толстой анна каренина роман  широкого дых...</td>\n",
       "      <td>7</td>\n",
       "    </tr>\n",
       "    <tr>\n",
       "      <th>1</th>\n",
       "      <td>Аэлита.epub</td>\n",
       "      <td>странное объявление на улице красных зорь поя...</td>\n",
       "      <td>3</td>\n",
       "    </tr>\n",
       "    <tr>\n",
       "      <th>2</th>\n",
       "      <td>Белый пароход.epub</td>\n",
       "      <td>чингиз айтматов белый пароход  после сказки  ...</td>\n",
       "      <td>7</td>\n",
       "    </tr>\n",
       "    <tr>\n",
       "      <th>3</th>\n",
       "      <td>Беовульф.epub</td>\n",
       "      <td>андрей мартьянов беовульф автор искренне благо...</td>\n",
       "      <td>1</td>\n",
       "    </tr>\n",
       "    <tr>\n",
       "      <th>4</th>\n",
       "      <td>Большие надежды.epub</td>\n",
       "      <td>чарльз диккенс большие надежды глава   фамили...</td>\n",
       "      <td>2</td>\n",
       "    </tr>\n",
       "  </tbody>\n",
       "</table>\n",
       "</div>"
      ],
      "text/plain": [
       "                  Title                                               Text Tag\n",
       "0    Анна Каренина.epub   лев толстой анна каренина роман  широкого дых...   7\n",
       "1           Аэлита.epub   странное объявление на улице красных зорь поя...   3\n",
       "2    Белый пароход.epub   чингиз айтматов белый пароход  после сказки  ...   7\n",
       "3         Беовульф.epub  андрей мартьянов беовульф автор искренне благо...   1\n",
       "4  Большие надежды.epub   чарльз диккенс большие надежды глава   фамили...   2"
      ]
     },
     "execution_count": 24,
     "metadata": {},
     "output_type": "execute_result"
    }
   ],
   "source": [
    "data.head()"
   ]
  },
  {
   "cell_type": "markdown",
   "id": "48ae72ad",
   "metadata": {},
   "source": [
    "### Токенизация текстов\n",
    "\n",
    "https://medium.com/nuances-of-programming/основы-обработки-естественного-языка-nlp-за-10-минут-389f9e2e0ad"
   ]
  },
  {
   "cell_type": "code",
   "execution_count": 25,
   "id": "26bde911",
   "metadata": {},
   "outputs": [
    {
     "name": "stderr",
     "output_type": "stream",
     "text": [
      "100%|██████████████████████████████████████████████████████████████████████████████████| 54/54 [00:12<00:00,  4.29it/s]\n"
     ]
    }
   ],
   "source": [
    "data['Text_tokenize'] = data.progress_apply(lambda x: word_tokenize(x.Text, language = \"russian\"), axis=1) # sent_tokenize"
   ]
  },
  {
   "cell_type": "code",
   "execution_count": 26,
   "id": "44e4a771",
   "metadata": {},
   "outputs": [
    {
     "data": {
      "text/html": [
       "<div>\n",
       "<style scoped>\n",
       "    .dataframe tbody tr th:only-of-type {\n",
       "        vertical-align: middle;\n",
       "    }\n",
       "\n",
       "    .dataframe tbody tr th {\n",
       "        vertical-align: top;\n",
       "    }\n",
       "\n",
       "    .dataframe thead th {\n",
       "        text-align: right;\n",
       "    }\n",
       "</style>\n",
       "<table border=\"1\" class=\"dataframe\">\n",
       "  <thead>\n",
       "    <tr style=\"text-align: right;\">\n",
       "      <th></th>\n",
       "      <th>Title</th>\n",
       "      <th>Text</th>\n",
       "      <th>Tag</th>\n",
       "      <th>Text_tokenize</th>\n",
       "    </tr>\n",
       "  </thead>\n",
       "  <tbody>\n",
       "    <tr>\n",
       "      <th>0</th>\n",
       "      <td>Анна Каренина.epub</td>\n",
       "      <td>лев толстой анна каренина роман  широкого дых...</td>\n",
       "      <td>7</td>\n",
       "      <td>[лев, толстой, анна, каренина, роман, широкого...</td>\n",
       "    </tr>\n",
       "    <tr>\n",
       "      <th>1</th>\n",
       "      <td>Аэлита.epub</td>\n",
       "      <td>странное объявление на улице красных зорь поя...</td>\n",
       "      <td>3</td>\n",
       "      <td>[странное, объявление, на, улице, красных, зор...</td>\n",
       "    </tr>\n",
       "    <tr>\n",
       "      <th>2</th>\n",
       "      <td>Белый пароход.epub</td>\n",
       "      <td>чингиз айтматов белый пароход  после сказки  ...</td>\n",
       "      <td>7</td>\n",
       "      <td>[чингиз, айтматов, белый, пароход, после, сказ...</td>\n",
       "    </tr>\n",
       "    <tr>\n",
       "      <th>3</th>\n",
       "      <td>Беовульф.epub</td>\n",
       "      <td>андрей мартьянов беовульф автор искренне благо...</td>\n",
       "      <td>1</td>\n",
       "      <td>[андрей, мартьянов, беовульф, автор, искренне,...</td>\n",
       "    </tr>\n",
       "    <tr>\n",
       "      <th>4</th>\n",
       "      <td>Большие надежды.epub</td>\n",
       "      <td>чарльз диккенс большие надежды глава   фамили...</td>\n",
       "      <td>2</td>\n",
       "      <td>[чарльз, диккенс, большие, надежды, глава, фам...</td>\n",
       "    </tr>\n",
       "  </tbody>\n",
       "</table>\n",
       "</div>"
      ],
      "text/plain": [
       "                  Title                                               Text  \\\n",
       "0    Анна Каренина.epub   лев толстой анна каренина роман  широкого дых...   \n",
       "1           Аэлита.epub   странное объявление на улице красных зорь поя...   \n",
       "2    Белый пароход.epub   чингиз айтматов белый пароход  после сказки  ...   \n",
       "3         Беовульф.epub  андрей мартьянов беовульф автор искренне благо...   \n",
       "4  Большие надежды.epub   чарльз диккенс большие надежды глава   фамили...   \n",
       "\n",
       "  Tag                                      Text_tokenize  \n",
       "0   7  [лев, толстой, анна, каренина, роман, широкого...  \n",
       "1   3  [странное, объявление, на, улице, красных, зор...  \n",
       "2   7  [чингиз, айтматов, белый, пароход, после, сказ...  \n",
       "3   1  [андрей, мартьянов, беовульф, автор, искренне,...  \n",
       "4   2  [чарльз, диккенс, большие, надежды, глава, фам...  "
      ]
     },
     "execution_count": 26,
     "metadata": {},
     "output_type": "execute_result"
    }
   ],
   "source": [
    "data.head()"
   ]
  },
  {
   "cell_type": "markdown",
   "id": "bf5d089f",
   "metadata": {},
   "source": [
    "### Подсчёт статистики встречаемости слов в тексте"
   ]
  },
  {
   "cell_type": "code",
   "execution_count": 27,
   "id": "75d2fe85",
   "metadata": {},
   "outputs": [],
   "source": [
    "# freq = data.apply(lambda x: FreqDist(x.Text_tokenize).most_common(20), axis=1)"
   ]
  },
  {
   "cell_type": "code",
   "execution_count": 28,
   "id": "c93c4fd6",
   "metadata": {},
   "outputs": [],
   "source": [
    "# freq.loc[0]"
   ]
  },
  {
   "cell_type": "code",
   "execution_count": 29,
   "id": "82ef5b08",
   "metadata": {},
   "outputs": [],
   "source": [
    "# import spacy\n",
    "# # loading the model\n",
    "# nlp = spacy.load('ru_core_news_lg')\n",
    "\n",
    "# doc = nlp('Дима Миша Саша Александр Павел')\n",
    "# # creating the filter list for tokens that are identified as person\n",
    "# fil = [i for i in doc.ents if i.label_.lower() in [\"person\"]]"
   ]
  },
  {
   "cell_type": "code",
   "execution_count": 30,
   "id": "61f0e142",
   "metadata": {},
   "outputs": [],
   "source": [
    "# nlp."
   ]
  },
  {
   "cell_type": "code",
   "execution_count": 31,
   "id": "c572f1af",
   "metadata": {},
   "outputs": [],
   "source": [
    "# for chunk in doc.noun_chunks:\n",
    "#     # filtering the name of the person\n",
    "#     if chunk in fil:\n",
    "#         print(chunk.text)"
   ]
  },
  {
   "cell_type": "markdown",
   "id": "51d4602a",
   "metadata": {},
   "source": [
    "### Удаление стоп-слов (шумовых слов)"
   ]
  },
  {
   "cell_type": "code",
   "execution_count": 32,
   "id": "48eddff8",
   "metadata": {},
   "outputs": [],
   "source": [
    "russian_stopwords = stopwords.words('russian')"
   ]
  },
  {
   "cell_type": "code",
   "execution_count": 33,
   "id": "9b4125e2",
   "metadata": {},
   "outputs": [
    {
     "name": "stdout",
     "output_type": "stream",
     "text": [
      "['и', 'в', 'во', 'не', 'что', 'он', 'на', 'я', 'с', 'со', 'как', 'а', 'то', 'все', 'она', 'так', 'его', 'но', 'да', 'ты', 'к', 'у', 'же', 'вы', 'за', 'бы', 'по', 'только', 'ее', 'мне', 'было', 'вот', 'от', 'меня', 'еще', 'нет', 'о', 'из', 'ему', 'теперь', 'когда', 'даже', 'ну', 'вдруг', 'ли', 'если', 'уже', 'или', 'ни', 'быть', 'был', 'него', 'до', 'вас', 'нибудь', 'опять', 'уж', 'вам', 'ведь', 'там', 'потом', 'себя', 'ничего', 'ей', 'может', 'они', 'тут', 'где', 'есть', 'надо', 'ней', 'для', 'мы', 'тебя', 'их', 'чем', 'была', 'сам', 'чтоб', 'без', 'будто', 'чего', 'раз', 'тоже', 'себе', 'под', 'будет', 'ж', 'тогда', 'кто', 'этот', 'того', 'потому', 'этого', 'какой', 'совсем', 'ним', 'здесь', 'этом', 'один', 'почти', 'мой', 'тем', 'чтобы', 'нее', 'сейчас', 'были', 'куда', 'зачем', 'всех', 'никогда', 'можно', 'при', 'наконец', 'два', 'об', 'другой', 'хоть', 'после', 'над', 'больше', 'тот', 'через', 'эти', 'нас', 'про', 'всего', 'них', 'какая', 'много', 'разве', 'три', 'эту', 'моя', 'впрочем', 'хорошо', 'свою', 'этой', 'перед', 'иногда', 'лучше', 'чуть', 'том', 'нельзя', 'такой', 'им', 'более', 'всегда', 'конечно', 'всю', 'между']\n"
     ]
    }
   ],
   "source": [
    "print(russian_stopwords)"
   ]
  },
  {
   "cell_type": "code",
   "execution_count": 34,
   "id": "b85f6947",
   "metadata": {},
   "outputs": [],
   "source": [
    "russian_stopwords.extend(['которых', 'которые', 'твой', 'которой', 'которого', 'сих', 'ком', 'свой', 'твоя', 'этими', 'слишком', 'нами', 'всему', 'будь', 'саму', 'чаще', 'ваше', 'сами', 'наш', 'затем',\n",
    "'еще', 'самих', 'наши', 'ту', 'каждое', 'мочь', 'весь', 'этим', 'наша', 'своих', 'оба', 'который', 'зато', 'те', 'этих', 'вся', 'ваш', 'такая', 'теми', 'ею', 'которая', 'нередко',\n",
    "'каждая', 'также', 'чему', 'собой', 'самими', 'нем', 'вами', 'ими', 'откуда', 'такие', 'тому', 'та', 'очень', 'сама', 'нему', 'алло', 'оно', 'этому', 'кому', 'тобой', 'таки', 'твоё',\n",
    "'каждые', 'твои', 'мой', 'нею', 'самим', 'ваши', 'ваша', 'кем', 'мои', 'однако', 'сразу', 'свое', 'ними', 'всё', 'неё', 'тех', 'хотя', 'всем', 'тобою', 'тебе', 'одной', 'другие',\n",
    "'само', 'эта', 'буду', 'самой', 'моё', 'своей', 'такое', 'всею', 'будут', 'своего', 'кого', 'свои', 'мог', 'нам', 'особенно', 'её', 'самому', 'наше', 'кроме', 'вообще', 'вон',\n",
    "'мною', 'никто', 'это', 'гарри', 'поттер'])"
   ]
  },
  {
   "cell_type": "code",
   "execution_count": 35,
   "id": "91af42f5",
   "metadata": {},
   "outputs": [],
   "source": [
    "def del_stopwords(text, stop_words):\n",
    "    return [word for word in text if word not in stop_words]"
   ]
  },
  {
   "cell_type": "code",
   "execution_count": 36,
   "id": "b2fa2552",
   "metadata": {},
   "outputs": [],
   "source": [
    "data['Text_tokenize'] = data.apply(lambda x: del_stopwords(x.Text_tokenize, russian_stopwords), axis=1)"
   ]
  },
  {
   "cell_type": "code",
   "execution_count": 37,
   "id": "f6d78ef3",
   "metadata": {},
   "outputs": [],
   "source": [
    "# freq = data.apply(lambda x: FreqDist(x.Text_tokenize).most_common(20), axis=1)"
   ]
  },
  {
   "cell_type": "code",
   "execution_count": 38,
   "id": "33e2250d",
   "metadata": {},
   "outputs": [],
   "source": [
    "# words_most_freq = []\n",
    "\n",
    "# for row in freq:\n",
    "#     for word in row:\n",
    "#         words_most_freq.append(word[0])"
   ]
  },
  {
   "cell_type": "code",
   "execution_count": 39,
   "id": "6a0ea8de",
   "metadata": {},
   "outputs": [],
   "source": [
    "# words_most_freq"
   ]
  },
  {
   "cell_type": "code",
   "execution_count": 40,
   "id": "0b4bcee9",
   "metadata": {},
   "outputs": [],
   "source": [
    "# names_to_delete = list(set(words_most_freq) & set(entities))\n",
    "# names_to_delete"
   ]
  },
  {
   "cell_type": "code",
   "execution_count": null,
   "id": "dde431b2",
   "metadata": {},
   "outputs": [],
   "source": []
  },
  {
   "cell_type": "code",
   "execution_count": 41,
   "id": "c0b8528b",
   "metadata": {},
   "outputs": [],
   "source": [
    "# data['Text'] = data.apply(lambda x: remove_chars_from_text(x.Text, '1'), axis=1)"
   ]
  },
  {
   "cell_type": "code",
   "execution_count": 42,
   "id": "43d861e2",
   "metadata": {},
   "outputs": [],
   "source": [
    "# data['Text_tokenize'] = data.apply(lambda xx: [x for x in xx['Text_tokenize'] if x not in names_to_delete], axis=1)"
   ]
  },
  {
   "cell_type": "code",
   "execution_count": 43,
   "id": "e8ded232",
   "metadata": {},
   "outputs": [],
   "source": [
    "# data.apply(lambda x: FreqDist(x.Text_tokenize).most_common(20), axis=1)"
   ]
  },
  {
   "cell_type": "markdown",
   "id": "07ce3218",
   "metadata": {},
   "source": [
    "### Лемматизация или Стеммизация"
   ]
  },
  {
   "cell_type": "markdown",
   "id": "6f4b2a9c",
   "metadata": {},
   "source": [
    "#### Лемматизация - точнее, медленнее, ресурсоёмкая задача"
   ]
  },
  {
   "cell_type": "code",
   "execution_count": 44,
   "id": "52d250ba",
   "metadata": {},
   "outputs": [],
   "source": [
    "# переводим Text_tokenize в чистые строки\n",
    "data['Text_tokenize'] = data.apply(lambda x: re.sub(\"[^а-яА-Я]\",\" \", str(x.Text_tokenize)), axis=1)"
   ]
  },
  {
   "cell_type": "code",
   "execution_count": 45,
   "id": "c64162b7",
   "metadata": {},
   "outputs": [
    {
     "data": {
      "text/html": [
       "<div>\n",
       "<style scoped>\n",
       "    .dataframe tbody tr th:only-of-type {\n",
       "        vertical-align: middle;\n",
       "    }\n",
       "\n",
       "    .dataframe tbody tr th {\n",
       "        vertical-align: top;\n",
       "    }\n",
       "\n",
       "    .dataframe thead th {\n",
       "        text-align: right;\n",
       "    }\n",
       "</style>\n",
       "<table border=\"1\" class=\"dataframe\">\n",
       "  <thead>\n",
       "    <tr style=\"text-align: right;\">\n",
       "      <th></th>\n",
       "      <th>Title</th>\n",
       "      <th>Text</th>\n",
       "      <th>Tag</th>\n",
       "      <th>Text_tokenize</th>\n",
       "    </tr>\n",
       "  </thead>\n",
       "  <tbody>\n",
       "    <tr>\n",
       "      <th>0</th>\n",
       "      <td>Анна Каренина.epub</td>\n",
       "      <td>лев толстой анна каренина роман  широкого дых...</td>\n",
       "      <td>7</td>\n",
       "      <td>лев    толстой    анна    каренина    роман ...</td>\n",
       "    </tr>\n",
       "    <tr>\n",
       "      <th>1</th>\n",
       "      <td>Аэлита.epub</td>\n",
       "      <td>странное объявление на улице красных зорь поя...</td>\n",
       "      <td>3</td>\n",
       "      <td>странное    объявление    улице    красных  ...</td>\n",
       "    </tr>\n",
       "    <tr>\n",
       "      <th>2</th>\n",
       "      <td>Белый пароход.epub</td>\n",
       "      <td>чингиз айтматов белый пароход  после сказки  ...</td>\n",
       "      <td>7</td>\n",
       "      <td>чингиз    айтматов    белый    пароход    ск...</td>\n",
       "    </tr>\n",
       "    <tr>\n",
       "      <th>3</th>\n",
       "      <td>Беовульф.epub</td>\n",
       "      <td>андрей мартьянов беовульф автор искренне благо...</td>\n",
       "      <td>1</td>\n",
       "      <td>андрей    мартьянов    беовульф    автор    ...</td>\n",
       "    </tr>\n",
       "    <tr>\n",
       "      <th>4</th>\n",
       "      <td>Большие надежды.epub</td>\n",
       "      <td>чарльз диккенс большие надежды глава   фамили...</td>\n",
       "      <td>2</td>\n",
       "      <td>чарльз    диккенс    большие    надежды    г...</td>\n",
       "    </tr>\n",
       "  </tbody>\n",
       "</table>\n",
       "</div>"
      ],
      "text/plain": [
       "                  Title                                               Text  \\\n",
       "0    Анна Каренина.epub   лев толстой анна каренина роман  широкого дых...   \n",
       "1           Аэлита.epub   странное объявление на улице красных зорь поя...   \n",
       "2    Белый пароход.epub   чингиз айтматов белый пароход  после сказки  ...   \n",
       "3         Беовульф.epub  андрей мартьянов беовульф автор искренне благо...   \n",
       "4  Большие надежды.epub   чарльз диккенс большие надежды глава   фамили...   \n",
       "\n",
       "  Tag                                      Text_tokenize  \n",
       "0   7    лев    толстой    анна    каренина    роман ...  \n",
       "1   3    странное    объявление    улице    красных  ...  \n",
       "2   7    чингиз    айтматов    белый    пароход    ск...  \n",
       "3   1    андрей    мартьянов    беовульф    автор    ...  \n",
       "4   2    чарльз    диккенс    большие    надежды    г...  "
      ]
     },
     "execution_count": 45,
     "metadata": {},
     "output_type": "execute_result"
    }
   ],
   "source": [
    "data.head()"
   ]
  },
  {
   "cell_type": "code",
   "execution_count": 46,
   "id": "330cb9de",
   "metadata": {},
   "outputs": [],
   "source": [
    "morph = Mystem()"
   ]
  },
  {
   "cell_type": "code",
   "execution_count": 47,
   "id": "313b9012",
   "metadata": {},
   "outputs": [
    {
     "name": "stderr",
     "output_type": "stream",
     "text": [
      "100%|██████████████████████████████████████████████████████████████████████████████████| 54/54 [02:36<00:00,  2.90s/it]\n"
     ]
    }
   ],
   "source": [
    "data['Text_lemming'] = data.progress_apply(lambda x: morph.lemmatize(x.Text_tokenize), axis=1)"
   ]
  },
  {
   "cell_type": "code",
   "execution_count": 48,
   "id": "f4e08313",
   "metadata": {},
   "outputs": [
    {
     "data": {
      "text/plain": [
       "0    [  , лев,     , толстой,     , анна,     , кар...\n",
       "1    [  , странный,     , объявление,     , улица, ...\n",
       "Name: Text_lemming, dtype: object"
      ]
     },
     "execution_count": 48,
     "metadata": {},
     "output_type": "execute_result"
    }
   ],
   "source": [
    "data['Text_lemming'].head(2)"
   ]
  },
  {
   "cell_type": "code",
   "execution_count": 49,
   "id": "31324db6",
   "metadata": {},
   "outputs": [],
   "source": [
    "# чистим строки\n",
    "data['Text_lemming'] = data.apply(lambda x: re.sub(\"[^а-яА-Я]\",\" \", str(x.Text_lemming)), axis=1)"
   ]
  },
  {
   "cell_type": "code",
   "execution_count": 50,
   "id": "4e100137",
   "metadata": {},
   "outputs": [
    {
     "data": {
      "text/plain": [
       "0            лев            толстой            анна...\n",
       "1            странный            объявление        ...\n",
       "2            чингиз            айтматов            ...\n",
       "3            андрей            мартьянов           ...\n",
       "4            чарльз            диккенс            б...\n",
       "Name: Text_lemming, dtype: object"
      ]
     },
     "execution_count": 50,
     "metadata": {},
     "output_type": "execute_result"
    }
   ],
   "source": [
    "data['Text_lemming'].head()"
   ]
  },
  {
   "cell_type": "code",
   "execution_count": 51,
   "id": "a3dd1fed",
   "metadata": {},
   "outputs": [
    {
     "name": "stderr",
     "output_type": "stream",
     "text": [
      "100%|██████████████████████████████████████████████████████████████████████████████████| 54/54 [00:21<00:00,  2.55it/s]\n"
     ]
    }
   ],
   "source": [
    "data['Text_lemming'] = data.progress_apply(lambda x: word_tokenize(x.Text_lemming, language = \"russian\"), axis=1)"
   ]
  },
  {
   "cell_type": "code",
   "execution_count": 52,
   "id": "cd5d42cc",
   "metadata": {},
   "outputs": [
    {
     "name": "stderr",
     "output_type": "stream",
     "text": [
      "100%|██████████████████████████████████████████████████████████████████████████████████| 54/54 [00:10<00:00,  5.26it/s]\n"
     ]
    }
   ],
   "source": [
    "data['Text_tokenize'] = data.progress_apply(lambda x: word_tokenize(x.Text_tokenize, language = \"russian\"), axis=1)"
   ]
  },
  {
   "cell_type": "code",
   "execution_count": 53,
   "id": "2974cd19",
   "metadata": {},
   "outputs": [
    {
     "data": {
      "text/plain": [
       "0    [лев, толстой, анна, каренина, роман, широкого...\n",
       "1    [странное, объявление, улице, красных, зорь, п...\n",
       "2    [чингиз, айтматов, белый, пароход, сказки, две...\n",
       "3    [андрей, мартьянов, беовульф, автор, искренне,...\n",
       "4    [чарльз, диккенс, большие, надежды, глава, фам...\n",
       "Name: Text_tokenize, dtype: object"
      ]
     },
     "execution_count": 53,
     "metadata": {},
     "output_type": "execute_result"
    }
   ],
   "source": [
    "data['Text_tokenize'].head()"
   ]
  },
  {
   "cell_type": "code",
   "execution_count": 54,
   "id": "e3655bce",
   "metadata": {},
   "outputs": [],
   "source": [
    "# morph = pymorphy2.MorphAnalyzer(lang='ru')"
   ]
  },
  {
   "cell_type": "code",
   "execution_count": 55,
   "id": "2099526f",
   "metadata": {},
   "outputs": [],
   "source": [
    "# def lemming(text):\n",
    "#     return [(morph.parse(word)[0]).normal_form for word in text]"
   ]
  },
  {
   "cell_type": "code",
   "execution_count": 56,
   "id": "1ef51416",
   "metadata": {},
   "outputs": [],
   "source": [
    "# data['Text_lemming'] = data.progress_apply(lambda x: lemming(x.Text_tokenize), axis=1)"
   ]
  },
  {
   "cell_type": "code",
   "execution_count": 57,
   "id": "351659de",
   "metadata": {},
   "outputs": [],
   "source": [
    "# data['Text_lemming'].head()"
   ]
  },
  {
   "cell_type": "markdown",
   "id": "afeb41ee",
   "metadata": {},
   "source": [
    "#### Стеммизация - быстро"
   ]
  },
  {
   "cell_type": "code",
   "execution_count": 58,
   "id": "c58c8882",
   "metadata": {},
   "outputs": [],
   "source": [
    "# Создаём стеммер для русского языка\n",
    "\n",
    "class Stemmer:\n",
    "    # Helper regex strings.\n",
    "    _vowel = \"[аеиоуыэюя]\"\n",
    "    _non_vowel = \"[^аеиоуыэюя]\"\n",
    "\n",
    "    # Word regions.\n",
    "    _re_rv = re.compile(_vowel)\n",
    "    _re_r1 = re.compile(_vowel + _non_vowel)\n",
    "\n",
    "    # Endings.\n",
    "    _re_perfective_gerund = re.compile(\n",
    "        r\"(((?P<ignore>[ая])(в|вши|вшись))|(ив|ивши|ившись|ыв|ывши|ывшись))$\"\n",
    "    )\n",
    "    _re_adjective = re.compile(\n",
    "        r\"(ее|ие|ые|ое|ими|ыми|ей|ий|ый|ой|ем|им|ым|ом|его|ого|ему|ому|их|ых|\"\n",
    "        r\"ую|юю|ая|яя|ою|ею)$\"\n",
    "    )\n",
    "    _re_participle = re.compile(\n",
    "        r\"(((?P<ignore>[ая])(ем|нн|вш|ющ|щ))|(ивш|ывш|ующ))$\"\n",
    "    )\n",
    "    _re_reflexive = re.compile(\n",
    "        r\"(ся|сь)$\"\n",
    "    )\n",
    "    _re_verb = re.compile(\n",
    "        r\"(((?P<ignore>[ая])(ла|на|ете|йте|ли|й|л|ем|н|ло|но|ет|ют|ны|ть|ешь|\"\n",
    "        r\"нно))|(ила|ыла|ена|ейте|уйте|ите|или|ыли|ей|уй|ил|ыл|им|ым|ен|ило|\"\n",
    "        r\"ыло|ено|ят|ует|уют|ит|ыт|ены|ить|ыть|ишь|ую|ю))$\"\n",
    "    )\n",
    "    _re_noun = re.compile(\n",
    "        r\"(а|ев|ов|ие|ье|е|иями|ями|ами|еи|ии|и|ией|ей|ой|ий|й|иям|ям|ием|ем|\"\n",
    "        r\"ам|ом|о|у|ах|иях|ях|ы|ь|ию|ью|ю|ия|ья|я)$\"\n",
    "    )\n",
    "    _re_superlative = re.compile(\n",
    "        r\"(ейш|ейше)$\"\n",
    "    )\n",
    "    _re_derivational = re.compile(\n",
    "        r\"(ост|ость)$\"\n",
    "    )\n",
    "    _re_i = re.compile(\n",
    "        r\"и$\"\n",
    "    )\n",
    "    _re_nn = re.compile(\n",
    "        r\"((?<=н)н)$\"\n",
    "    )\n",
    "    _re_ = re.compile(\n",
    "        r\"ь$\"\n",
    "    )\n",
    "\n",
    "    def stem(self, word):\n",
    "        \"\"\"\n",
    "        Gets the stem.\n",
    "        \"\"\"\n",
    "\n",
    "        rv_pos, r2_pos = self._find_rv(word), self._find_r2(word)\n",
    "        word = self._step_1(word, rv_pos)\n",
    "        word = self._step_2(word, rv_pos)\n",
    "        word = self._step_3(word, r2_pos)\n",
    "        word = self._step_4(word, rv_pos)\n",
    "        return word\n",
    "\n",
    "    def _find_rv(self, word):\n",
    "        \"\"\"\n",
    "        Searches for the RV region.\n",
    "        \"\"\"\n",
    "\n",
    "        rv_match = self._re_rv.search(word)\n",
    "        if not rv_match:\n",
    "            return len(word)\n",
    "        return rv_match.end()\n",
    "\n",
    "    def _find_r2(self, word):\n",
    "        \"\"\"\n",
    "        Searches for the R2 region.\n",
    "        \"\"\"\n",
    "\n",
    "        r1_match = self._re_r1.search(word)\n",
    "        if not r1_match:\n",
    "            return len(word)\n",
    "        r2_match = self._re_r1.search(word, r1_match.end())\n",
    "        if not r2_match:\n",
    "            return len(word)\n",
    "        return r2_match.end()\n",
    "\n",
    "    def _cut(self, word, ending, pos):\n",
    "        \"\"\"\n",
    "        Tries to cut the specified ending after the specified position.\n",
    "        \"\"\"\n",
    "\n",
    "        match = ending.search(word, pos)\n",
    "        if match:\n",
    "            try:\n",
    "                ignore = match.group(\"ignore\") or \"\"\n",
    "            except IndexError:\n",
    "                # No ignored characters in pattern.\n",
    "                return True, word[:match.start()]\n",
    "            else:\n",
    "                # Do not cut ignored part.\n",
    "                return True, word[:match.start() + len(ignore)]\n",
    "        else:\n",
    "            return False, word\n",
    "\n",
    "    def _step_1(self, word, rv_pos):\n",
    "        match, word = self._cut(word, self._re_perfective_gerund, rv_pos)\n",
    "        if match:\n",
    "            return word\n",
    "        _, word = self._cut(word, self._re_reflexive, rv_pos)\n",
    "        match, word = self._cut(word, self._re_adjective, rv_pos)\n",
    "        if match:\n",
    "            _, word = self._cut(word, self._re_participle, rv_pos)\n",
    "            return word\n",
    "        match, word = self._cut(word, self._re_verb, rv_pos)\n",
    "        if match:\n",
    "            return word\n",
    "        _, word = self._cut(word, self._re_noun, rv_pos)\n",
    "        return word\n",
    "\n",
    "    def _step_2(self, word, rv_pos):\n",
    "        _, word = self._cut(word, self._re_i, rv_pos)\n",
    "        return word\n",
    "\n",
    "    def _step_3(self, word, r2_pos):\n",
    "        _, word = self._cut(word, self._re_derivational, r2_pos)\n",
    "        return word\n",
    "\n",
    "    def _step_4(self, word, rv_pos):\n",
    "        _, word = self._cut(word, self._re_superlative, rv_pos)\n",
    "        match, word = self._cut(word, self._re_nn, rv_pos)\n",
    "        if not match:\n",
    "            _, word = self._cut(word, self._re_, rv_pos)\n",
    "        return word"
   ]
  },
  {
   "cell_type": "code",
   "execution_count": 59,
   "id": "347cd8c1",
   "metadata": {},
   "outputs": [],
   "source": [
    "stemmer = Stemmer()"
   ]
  },
  {
   "cell_type": "code",
   "execution_count": 60,
   "id": "3f1bb03c",
   "metadata": {},
   "outputs": [],
   "source": [
    "def stemming(text):\n",
    "    return [stemmer.stem(word) for word in text]"
   ]
  },
  {
   "cell_type": "code",
   "execution_count": 61,
   "id": "22594a42",
   "metadata": {},
   "outputs": [
    {
     "name": "stderr",
     "output_type": "stream",
     "text": [
      "100%|██████████████████████████████████████████████████████████████████████████████████| 54/54 [00:16<00:00,  3.23it/s]\n"
     ]
    }
   ],
   "source": [
    "data['Text_stemming'] = data.progress_apply(lambda x: stemming(x.Text_tokenize), axis=1)"
   ]
  },
  {
   "cell_type": "code",
   "execution_count": 62,
   "id": "c5b03ca1",
   "metadata": {},
   "outputs": [
    {
     "data": {
      "text/plain": [
       "0    [лев, толст, ан, каренин, рома, широк, дыхан, ...\n",
       "1    [стран, объявлен, улиц, красн, зор, появ, стра...\n",
       "2    [чингиз, айтмат, бел, пароход, сказк, две, ска...\n",
       "3    [андр, мартьян, беовульф, автор, искрен, благо...\n",
       "4    [чарльз, диккенс, больш, надежд, глав, фамил, ...\n",
       "Name: Text_stemming, dtype: object"
      ]
     },
     "execution_count": 62,
     "metadata": {},
     "output_type": "execute_result"
    }
   ],
   "source": [
    "data['Text_stemming'].head()"
   ]
  },
  {
   "cell_type": "code",
   "execution_count": null,
   "id": "15a40713",
   "metadata": {},
   "outputs": [],
   "source": []
  },
  {
   "cell_type": "code",
   "execution_count": null,
   "id": "2768955e",
   "metadata": {},
   "outputs": [],
   "source": []
  },
  {
   "cell_type": "code",
   "execution_count": null,
   "id": "21937dc8",
   "metadata": {},
   "outputs": [],
   "source": []
  },
  {
   "cell_type": "markdown",
   "id": "ae86880b",
   "metadata": {},
   "source": [
    "### N-граммы"
   ]
  },
  {
   "cell_type": "code",
   "execution_count": 63,
   "id": "e52b7f6b",
   "metadata": {},
   "outputs": [],
   "source": [
    "# words = \"Learning python was such an amazing experience for me\"\n",
    "# word_tokenize = nltk.word_tokenize(words)\n",
    "# print(list(nltk.ngrams(word_tokenize, 3)))"
   ]
  },
  {
   "cell_type": "code",
   "execution_count": null,
   "id": "6a684f0d",
   "metadata": {},
   "outputs": [],
   "source": []
  },
  {
   "cell_type": "markdown",
   "id": "5387be24",
   "metadata": {},
   "source": [
    "### Переводим всё в текст"
   ]
  },
  {
   "cell_type": "code",
   "execution_count": 64,
   "id": "c0f18320",
   "metadata": {},
   "outputs": [
    {
     "data": {
      "text/html": [
       "<div>\n",
       "<style scoped>\n",
       "    .dataframe tbody tr th:only-of-type {\n",
       "        vertical-align: middle;\n",
       "    }\n",
       "\n",
       "    .dataframe tbody tr th {\n",
       "        vertical-align: top;\n",
       "    }\n",
       "\n",
       "    .dataframe thead th {\n",
       "        text-align: right;\n",
       "    }\n",
       "</style>\n",
       "<table border=\"1\" class=\"dataframe\">\n",
       "  <thead>\n",
       "    <tr style=\"text-align: right;\">\n",
       "      <th></th>\n",
       "      <th>Title</th>\n",
       "      <th>Text</th>\n",
       "      <th>Tag</th>\n",
       "      <th>Text_tokenize</th>\n",
       "      <th>Text_lemming</th>\n",
       "      <th>Text_stemming</th>\n",
       "    </tr>\n",
       "  </thead>\n",
       "  <tbody>\n",
       "    <tr>\n",
       "      <th>0</th>\n",
       "      <td>Анна Каренина.epub</td>\n",
       "      <td>лев толстой анна каренина роман  широкого дых...</td>\n",
       "      <td>7</td>\n",
       "      <td>[лев, толстой, анна, каренина, роман, широкого...</td>\n",
       "      <td>[лев, толстой, анна, каренина, роман, широкий,...</td>\n",
       "      <td>[лев, толст, ан, каренин, рома, широк, дыхан, ...</td>\n",
       "    </tr>\n",
       "    <tr>\n",
       "      <th>1</th>\n",
       "      <td>Аэлита.epub</td>\n",
       "      <td>странное объявление на улице красных зорь поя...</td>\n",
       "      <td>3</td>\n",
       "      <td>[странное, объявление, улице, красных, зорь, п...</td>\n",
       "      <td>[странный, объявление, улица, красный, зоря, п...</td>\n",
       "      <td>[стран, объявлен, улиц, красн, зор, появ, стра...</td>\n",
       "    </tr>\n",
       "  </tbody>\n",
       "</table>\n",
       "</div>"
      ],
      "text/plain": [
       "                Title                                               Text Tag  \\\n",
       "0  Анна Каренина.epub   лев толстой анна каренина роман  широкого дых...   7   \n",
       "1         Аэлита.epub   странное объявление на улице красных зорь поя...   3   \n",
       "\n",
       "                                       Text_tokenize  \\\n",
       "0  [лев, толстой, анна, каренина, роман, широкого...   \n",
       "1  [странное, объявление, улице, красных, зорь, п...   \n",
       "\n",
       "                                        Text_lemming  \\\n",
       "0  [лев, толстой, анна, каренина, роман, широкий,...   \n",
       "1  [странный, объявление, улица, красный, зоря, п...   \n",
       "\n",
       "                                       Text_stemming  \n",
       "0  [лев, толст, ан, каренин, рома, широк, дыхан, ...  \n",
       "1  [стран, объявлен, улиц, красн, зор, появ, стра...  "
      ]
     },
     "execution_count": 64,
     "metadata": {},
     "output_type": "execute_result"
    }
   ],
   "source": [
    "data.head(2)"
   ]
  },
  {
   "cell_type": "code",
   "execution_count": 65,
   "id": "1437f418",
   "metadata": {},
   "outputs": [],
   "source": [
    "data['Text_tokenize'] = data.apply(lambda x: del_stopwords(x.Text_tokenize, russian_stopwords), axis=1)"
   ]
  },
  {
   "cell_type": "code",
   "execution_count": 66,
   "id": "a6cd619d",
   "metadata": {},
   "outputs": [],
   "source": [
    "data['Text_tokenize'] = data.apply(lambda x: re.sub(\"[^а-яА-Я]\",\" \", str(x.Text_tokenize)), axis=1)\n",
    "data['Text_lemming']  = data.apply(lambda x: re.sub(\"[^а-яА-Я]\",\" \", str(x.Text_lemming)), axis=1)\n",
    "data['Text_stemming'] = data.apply(lambda x: re.sub(\"[^а-яА-Я]\",\" \", str(x.Text_stemming)), axis=1)"
   ]
  },
  {
   "cell_type": "code",
   "execution_count": 67,
   "id": "2757eeab",
   "metadata": {},
   "outputs": [],
   "source": [
    "# data['Text_tokenize'] = data.apply(lambda x: word_tokenize(x.Text_tokenize, language = \"russian\"), axis=1)\n",
    "# data['Text_lemming'] = data.apply(lambda x: word_tokenize(x.Text_lemming, language = \"russian\"), axis=1)\n",
    "# data['Text_stemming'] = data.apply(lambda x: word_tokenize(x.Text_stemming, language = \"russian\"), axis=1)"
   ]
  },
  {
   "cell_type": "code",
   "execution_count": 68,
   "id": "6b5719ee",
   "metadata": {},
   "outputs": [],
   "source": [
    "# data['Text_tokenize'] = data.apply(lambda x: [x.Text_tokenize], axis=1)\n",
    "# data['Text_lemming']  = data.apply(lambda x: [x.Text_lemming], axis=1)\n",
    "# data['Text_stemming'] = data.apply(lambda x: [x.Text_stemming], axis=1)"
   ]
  },
  {
   "cell_type": "markdown",
   "id": "f9eaf98a",
   "metadata": {},
   "source": [
    "## Векторизация текстов\n",
    "\n",
    "https://www.kaggle.com/code/reiinakano/basic-nlp-bag-of-words-tf-idf-word2vec-lstm/notebook"
   ]
  },
  {
   "attachments": {
    "image.png": {
     "image/png": "[encoded data removed]"
    }
   },
   "cell_type": "markdown",
   "id": "0e6c920f",
   "metadata": {},
   "source": [
    "**Мешок слов**\n",
    "\n",
    "Документы описываются вхождениями слов, при этом полностью игнорируется информация об относительном положении слов в документе. По мешку слов находят количество появлений каждого слова во всем тексте. \n",
    "\n",
    "![image.png](attachment:image.png)"
   ]
  },
  {
   "cell_type": "code",
   "execution_count": 69,
   "id": "1979de4b",
   "metadata": {},
   "outputs": [],
   "source": [
    "count_vectorizer = CountVectorizer()"
   ]
  },
  {
   "cell_type": "code",
   "execution_count": 70,
   "id": "b9db8e07",
   "metadata": {},
   "outputs": [],
   "source": [
    "# получим значения\n",
    "bag_words_values = count_vectorizer.fit_transform(data['Text_lemming'].to_numpy())"
   ]
  },
  {
   "cell_type": "code",
   "execution_count": 71,
   "id": "ff74be7c",
   "metadata": {},
   "outputs": [],
   "source": [
    "# получим токены\n",
    "bag_words_tokens = count_vectorizer.get_feature_names_out()"
   ]
  },
  {
   "cell_type": "code",
   "execution_count": 72,
   "id": "1e9449a2",
   "metadata": {},
   "outputs": [],
   "source": [
    "data_bag_words = pd.DataFrame(data = bag_words_values.toarray(), columns = bag_words_tokens)"
   ]
  },
  {
   "cell_type": "code",
   "execution_count": 73,
   "id": "7da9b21f",
   "metadata": {},
   "outputs": [
    {
     "data": {
      "text/html": [
       "<div>\n",
       "<style scoped>\n",
       "    .dataframe tbody tr th:only-of-type {\n",
       "        vertical-align: middle;\n",
       "    }\n",
       "\n",
       "    .dataframe tbody tr th {\n",
       "        vertical-align: top;\n",
       "    }\n",
       "\n",
       "    .dataframe thead th {\n",
       "        text-align: right;\n",
       "    }\n",
       "</style>\n",
       "<table border=\"1\" class=\"dataframe\">\n",
       "  <thead>\n",
       "    <tr style=\"text-align: right;\">\n",
       "      <th></th>\n",
       "      <th>аа</th>\n",
       "      <th>ааа</th>\n",
       "      <th>аааа</th>\n",
       "      <th>ааааа</th>\n",
       "      <th>аааааа</th>\n",
       "      <th>аааааааа</th>\n",
       "      <th>аааха</th>\n",
       "      <th>аам</th>\n",
       "      <th>аарон</th>\n",
       "      <th>аахен</th>\n",
       "      <th>...</th>\n",
       "      <th>ящерица</th>\n",
       "      <th>ящеричный</th>\n",
       "      <th>ящерка</th>\n",
       "      <th>ящик</th>\n",
       "      <th>ящиков</th>\n",
       "      <th>ящичек</th>\n",
       "      <th>ящичный</th>\n",
       "      <th>ящур</th>\n",
       "      <th>яющий</th>\n",
       "      <th>яя</th>\n",
       "    </tr>\n",
       "  </thead>\n",
       "  <tbody>\n",
       "    <tr>\n",
       "      <th>0</th>\n",
       "      <td>1</td>\n",
       "      <td>4</td>\n",
       "      <td>0</td>\n",
       "      <td>0</td>\n",
       "      <td>0</td>\n",
       "      <td>0</td>\n",
       "      <td>0</td>\n",
       "      <td>0</td>\n",
       "      <td>0</td>\n",
       "      <td>0</td>\n",
       "      <td>...</td>\n",
       "      <td>0</td>\n",
       "      <td>0</td>\n",
       "      <td>0</td>\n",
       "      <td>17</td>\n",
       "      <td>0</td>\n",
       "      <td>0</td>\n",
       "      <td>0</td>\n",
       "      <td>0</td>\n",
       "      <td>0</td>\n",
       "      <td>0</td>\n",
       "    </tr>\n",
       "  </tbody>\n",
       "</table>\n",
       "<p>1 rows × 69061 columns</p>\n",
       "</div>"
      ],
      "text/plain": [
       "   аа  ааа  аааа  ааааа  аааааа  аааааааа  аааха  аам  аарон  аахен  ...  \\\n",
       "0   1    4     0      0       0         0      0    0      0      0  ...   \n",
       "\n",
       "   ящерица  ящеричный  ящерка  ящик  ящиков  ящичек  ящичный  ящур  яющий  яя  \n",
       "0        0          0       0    17       0       0        0     0      0   0  \n",
       "\n",
       "[1 rows x 69061 columns]"
      ]
     },
     "execution_count": 73,
     "metadata": {},
     "output_type": "execute_result"
    }
   ],
   "source": [
    "data_bag_words.head(1)"
   ]
  },
  {
   "cell_type": "code",
   "execution_count": 74,
   "id": "64ec1554",
   "metadata": {},
   "outputs": [],
   "source": [
    "data_bag_words['Tag'] = data['Tag']"
   ]
  },
  {
   "cell_type": "markdown",
   "id": "7166c5f6",
   "metadata": {},
   "source": [
    "**Самые популярные слова во всех книгах**"
   ]
  },
  {
   "cell_type": "code",
   "execution_count": 75,
   "id": "629422d0",
   "metadata": {},
   "outputs": [],
   "source": [
    "most_popular_words = pd.DataFrame(data_bag_words.drop(columns='Tag').sum()).reset_index()"
   ]
  },
  {
   "cell_type": "code",
   "execution_count": 76,
   "id": "bab5ffe8",
   "metadata": {},
   "outputs": [],
   "source": [
    "most_popular_words = most_popular_words.rename(columns={'index': 'word', 0: 'count'})"
   ]
  },
  {
   "cell_type": "code",
   "execution_count": 77,
   "id": "1cb418f5",
   "metadata": {},
   "outputs": [],
   "source": [
    "most_popular_words = most_popular_words.sort_values('count', ascending=False)"
   ]
  },
  {
   "cell_type": "code",
   "execution_count": 78,
   "id": "def0e380",
   "metadata": {},
   "outputs": [
    {
     "data": {
      "text/plain": [
       "<AxesSubplot:xlabel='word', ylabel='count'>"
      ]
     },
     "execution_count": 78,
     "metadata": {},
     "output_type": "execute_result"
    },
    {
     "data": {
      "image/png": "[encoded data removed]",
      "text/plain": [
       "<Figure size 1800x600 with 1 Axes>"
      ]
     },
     "metadata": {},
     "output_type": "display_data"
    }
   ],
   "source": [
    "figure(figsize=(18, 6), dpi=100)\n",
    "plt.xticks(rotation=90)\n",
    "\n",
    "sns.lineplot(data=most_popular_words.head(100), x=\"word\", y='count')"
   ]
  },
  {
   "cell_type": "code",
   "execution_count": 79,
   "id": "de9befc3",
   "metadata": {},
   "outputs": [
    {
     "name": "stdout",
     "output_type": "stream",
     "text": [
      "['и', 'в', 'во', 'не', 'что', 'он', 'на', 'я', 'с', 'со', 'как', 'а', 'то', 'все', 'она', 'так', 'его', 'но', 'да', 'ты', 'к', 'у', 'же', 'вы', 'за', 'бы', 'по', 'только', 'ее', 'мне', 'было', 'вот', 'от', 'меня', 'еще', 'нет', 'о', 'из', 'ему', 'теперь', 'когда', 'даже', 'ну', 'вдруг', 'ли', 'если', 'уже', 'или', 'ни', 'быть', 'был', 'него', 'до', 'вас', 'нибудь', 'опять', 'уж', 'вам', 'ведь', 'там', 'потом', 'себя', 'ничего', 'ей', 'может', 'они', 'тут', 'где', 'есть', 'надо', 'ней', 'для', 'мы', 'тебя', 'их', 'чем', 'была', 'сам', 'чтоб', 'без', 'будто', 'чего', 'раз', 'тоже', 'себе', 'под', 'будет', 'ж', 'тогда', 'кто', 'этот', 'того', 'потому', 'этого', 'какой', 'совсем', 'ним', 'здесь', 'этом', 'один', 'почти', 'мой', 'тем', 'чтобы', 'нее', 'сейчас', 'были', 'куда', 'зачем', 'всех', 'никогда', 'можно', 'при', 'наконец', 'два', 'об', 'другой', 'хоть', 'после', 'над', 'больше', 'тот', 'через', 'эти', 'нас', 'про', 'всего', 'них', 'какая', 'много', 'разве', 'три', 'эту', 'моя', 'впрочем', 'хорошо', 'свою', 'этой', 'перед', 'иногда', 'лучше', 'чуть', 'том', 'нельзя', 'такой', 'им', 'более', 'всегда', 'конечно', 'всю', 'между', 'которых', 'которые', 'твой', 'которой', 'которого', 'сих', 'ком', 'свой', 'твоя', 'этими', 'слишком', 'нами', 'всему', 'будь', 'саму', 'чаще', 'ваше', 'сами', 'наш', 'затем', 'еще', 'самих', 'наши', 'ту', 'каждое', 'мочь', 'весь', 'этим', 'наша', 'своих', 'оба', 'который', 'зато', 'те', 'этих', 'вся', 'ваш', 'такая', 'теми', 'ею', 'которая', 'нередко', 'каждая', 'также', 'чему', 'собой', 'самими', 'нем', 'вами', 'ими', 'откуда', 'такие', 'тому', 'та', 'очень', 'сама', 'нему', 'алло', 'оно', 'этому', 'кому', 'тобой', 'таки', 'твоё', 'каждые', 'твои', 'мой', 'нею', 'самим', 'ваши', 'ваша', 'кем', 'мои', 'однако', 'сразу', 'свое', 'ними', 'всё', 'неё', 'тех', 'хотя', 'всем', 'тобою', 'тебе', 'одной', 'другие', 'само', 'эта', 'буду', 'самой', 'моё', 'своей', 'такое', 'всею', 'будут', 'своего', 'кого', 'свои', 'мог', 'нам', 'особенно', 'её', 'самому', 'наше', 'кроме', 'вообще', 'вон', 'мною', 'никто', 'это', 'гарри', 'поттер']\n"
     ]
    }
   ],
   "source": [
    "print(russian_stopwords)"
   ]
  },
  {
   "cell_type": "code",
   "execution_count": 80,
   "id": "1f698896",
   "metadata": {},
   "outputs": [],
   "source": [
    "# x_train_bag_words, x_test_bag_words, y_train_bag_words, y_test_bag_words = \\\n",
    "#     train_test_split(bag_words_values.toarray(), data_bag_words['Tag'], test_size = 0.2, random_state = 10)"
   ]
  },
  {
   "attachments": {
    "image-2.png": {
     "image/png": "[encoded data removed]"
    },
    "image.png": {
     "image/png": "[encoded data removed]"
    }
   },
   "cell_type": "markdown",
   "id": "ff8c2325",
   "metadata": {},
   "source": [
    "**TF-IDF**\n",
    "\n",
    "В тексте большого объема некоторые слова могут присутствовать очень часто, но при этом не нести никакой значимой информации о фактическом содержании текста (документа). Если такие данные передавать непосредственно классификатору, то такие частые термины могут затенять частоты более редких, но при этом более интересных терминов. Для того, чтобы этого избежать, достаточно разделить количество употреблений каждого слова в документе на общее количество слов в документе, это есть TF — частота термина. Термин IDF (inverse document frequency) обозначает обратную частоту термина (инверсия частоты) с которой некоторое слово встречается в документах. IDF позволяет измерить непосредственную важность термина.\n",
    "\n",
    "https://medium.com/@cmukesh8688/tf-idf-vectorizer-scikit-learn-dbc0244a911a\n",
    "\n",
    "https://www.dmitrymakarov.ru/intro/topic-identification-19/#8-metod-tf-idf\n",
    "\n",
    "![image.png](attachment:image.png)\n",
    "![image-2.png](attachment:image-2.png)"
   ]
  },
  {
   "cell_type": "code",
   "execution_count": 81,
   "id": "a452e276",
   "metadata": {},
   "outputs": [],
   "source": [
    "# создадим объект класса TfidfVectorizer\n",
    "tfidf_vectorizer = TfidfVectorizer(analyzer='word')"
   ]
  },
  {
   "cell_type": "code",
   "execution_count": 82,
   "id": "8df53e55",
   "metadata": {},
   "outputs": [],
   "source": [
    "# получим значения\n",
    "tfidf_values = tfidf_vectorizer.fit_transform(data['Text_lemming'].to_numpy())"
   ]
  },
  {
   "cell_type": "code",
   "execution_count": 83,
   "id": "0c6cdfb4",
   "metadata": {},
   "outputs": [],
   "source": [
    "# получим токены\n",
    "tfidf_tokens = tfidf_vectorizer.get_feature_names_out()"
   ]
  },
  {
   "cell_type": "code",
   "execution_count": 84,
   "id": "228008a4",
   "metadata": {},
   "outputs": [],
   "source": [
    "data_TFIDF = pd.DataFrame(data = tfidf_values.toarray(), columns = tfidf_tokens)"
   ]
  },
  {
   "cell_type": "code",
   "execution_count": 85,
   "id": "b3ae9640",
   "metadata": {},
   "outputs": [
    {
     "data": {
      "text/html": [
       "<div>\n",
       "<style scoped>\n",
       "    .dataframe tbody tr th:only-of-type {\n",
       "        vertical-align: middle;\n",
       "    }\n",
       "\n",
       "    .dataframe tbody tr th {\n",
       "        vertical-align: top;\n",
       "    }\n",
       "\n",
       "    .dataframe thead th {\n",
       "        text-align: right;\n",
       "    }\n",
       "</style>\n",
       "<table border=\"1\" class=\"dataframe\">\n",
       "  <thead>\n",
       "    <tr style=\"text-align: right;\">\n",
       "      <th></th>\n",
       "      <th>аа</th>\n",
       "      <th>ааа</th>\n",
       "      <th>аааа</th>\n",
       "      <th>ааааа</th>\n",
       "      <th>аааааа</th>\n",
       "      <th>аааааааа</th>\n",
       "      <th>аааха</th>\n",
       "      <th>аам</th>\n",
       "      <th>аарон</th>\n",
       "      <th>аахен</th>\n",
       "      <th>...</th>\n",
       "      <th>ящерица</th>\n",
       "      <th>ящеричный</th>\n",
       "      <th>ящерка</th>\n",
       "      <th>ящик</th>\n",
       "      <th>ящиков</th>\n",
       "      <th>ящичек</th>\n",
       "      <th>ящичный</th>\n",
       "      <th>ящур</th>\n",
       "      <th>яющий</th>\n",
       "      <th>яя</th>\n",
       "    </tr>\n",
       "  </thead>\n",
       "  <tbody>\n",
       "    <tr>\n",
       "      <th>0</th>\n",
       "      <td>0.000348</td>\n",
       "      <td>0.001288</td>\n",
       "      <td>0.0</td>\n",
       "      <td>0.0</td>\n",
       "      <td>0.0</td>\n",
       "      <td>0.0</td>\n",
       "      <td>0.0</td>\n",
       "      <td>0.0</td>\n",
       "      <td>0.0</td>\n",
       "      <td>0.0</td>\n",
       "      <td>...</td>\n",
       "      <td>0.0</td>\n",
       "      <td>0.0</td>\n",
       "      <td>0.0</td>\n",
       "      <td>0.002195</td>\n",
       "      <td>0.0</td>\n",
       "      <td>0.0</td>\n",
       "      <td>0.0</td>\n",
       "      <td>0.0</td>\n",
       "      <td>0.0</td>\n",
       "      <td>0.0</td>\n",
       "    </tr>\n",
       "  </tbody>\n",
       "</table>\n",
       "<p>1 rows × 69061 columns</p>\n",
       "</div>"
      ],
      "text/plain": [
       "         аа       ааа  аааа  ааааа  аааааа  аааааааа  аааха  аам  аарон  \\\n",
       "0  0.000348  0.001288   0.0    0.0     0.0       0.0    0.0  0.0    0.0   \n",
       "\n",
       "   аахен  ...  ящерица  ящеричный  ящерка      ящик  ящиков  ящичек  ящичный  \\\n",
       "0    0.0  ...      0.0        0.0     0.0  0.002195     0.0     0.0      0.0   \n",
       "\n",
       "   ящур  яющий   яя  \n",
       "0   0.0    0.0  0.0  \n",
       "\n",
       "[1 rows x 69061 columns]"
      ]
     },
     "execution_count": 85,
     "metadata": {},
     "output_type": "execute_result"
    }
   ],
   "source": [
    "data_TFIDF.head(1)"
   ]
  },
  {
   "cell_type": "code",
   "execution_count": 86,
   "id": "fa6cf3dc",
   "metadata": {},
   "outputs": [],
   "source": [
    "data_TFIDF['Tag'] = data['Tag']"
   ]
  },
  {
   "cell_type": "code",
   "execution_count": 87,
   "id": "9cfe6b4f",
   "metadata": {},
   "outputs": [],
   "source": [
    "# x_train_TFIDF, x_test_TFIDF, y_train_TFIDF, y_test_TFIDF = \\\n",
    "#     train_test_split(tfidf_values.toarray(), data_TFIDF['Tag'], test_size = 0.2, random_state = 10)"
   ]
  },
  {
   "cell_type": "markdown",
   "id": "ca6badb5",
   "metadata": {},
   "source": [
    "**word2vec**\n",
    "\n",
    "https://builtin.com/machine-learning/nlp-word2vec-python\n",
    "\n",
    "https://www.kaggle.com/code/reiinakano/basic-nlp-bag-of-words-tf-idf-word2vec-lstm/notebook"
   ]
  },
  {
   "cell_type": "code",
   "execution_count": 88,
   "id": "3c3a73a5",
   "metadata": {},
   "outputs": [
    {
     "data": {
      "text/html": [
       "<div>\n",
       "<style scoped>\n",
       "    .dataframe tbody tr th:only-of-type {\n",
       "        vertical-align: middle;\n",
       "    }\n",
       "\n",
       "    .dataframe tbody tr th {\n",
       "        vertical-align: top;\n",
       "    }\n",
       "\n",
       "    .dataframe thead th {\n",
       "        text-align: right;\n",
       "    }\n",
       "</style>\n",
       "<table border=\"1\" class=\"dataframe\">\n",
       "  <thead>\n",
       "    <tr style=\"text-align: right;\">\n",
       "      <th></th>\n",
       "      <th>x</th>\n",
       "      <th>y</th>\n",
       "      <th>word</th>\n",
       "    </tr>\n",
       "  </thead>\n",
       "  <tbody>\n",
       "    <tr>\n",
       "      <th>0</th>\n",
       "      <td>6.722838</td>\n",
       "      <td>-1.827754</td>\n",
       "      <td>сказать</td>\n",
       "    </tr>\n",
       "    <tr>\n",
       "      <th>1</th>\n",
       "      <td>6.830944</td>\n",
       "      <td>-4.398108</td>\n",
       "      <td>знать</td>\n",
       "    </tr>\n",
       "    <tr>\n",
       "      <th>2</th>\n",
       "      <td>6.806484</td>\n",
       "      <td>-3.131916</td>\n",
       "      <td>говорить</td>\n",
       "    </tr>\n",
       "    <tr>\n",
       "      <th>3</th>\n",
       "      <td>6.167228</td>\n",
       "      <td>-2.764221</td>\n",
       "      <td>человек</td>\n",
       "    </tr>\n",
       "    <tr>\n",
       "      <th>4</th>\n",
       "      <td>6.401916</td>\n",
       "      <td>4.369732</td>\n",
       "      <td>рука</td>\n",
       "    </tr>\n",
       "  </tbody>\n",
       "</table>\n",
       "</div>"
      ],
      "text/plain": [
       "          x         y      word\n",
       "0  6.722838 -1.827754   сказать\n",
       "1  6.830944 -4.398108     знать\n",
       "2  6.806484 -3.131916  говорить\n",
       "3  6.167228 -2.764221   человек\n",
       "4  6.401916  4.369732      рука"
      ]
     },
     "execution_count": 88,
     "metadata": {},
     "output_type": "execute_result"
    }
   ],
   "source": [
    "# токенизация текста для word2vec\n",
    "data['Text_lemming'] = data.apply(lambda x: word_tokenize(x.Text_lemming, language = \"russian\"), axis=1)\n",
    "w2v = Word2Vec(data['Text_lemming'].to_numpy(), min_count=1, vector_size = 5)\n",
    "words = list(w2v.wv.index_to_key)\n",
    "X = w2v.wv[w2v.wv.index_to_key]\n",
    "pca = PCA(n_components=2)\n",
    "result = pca.fit_transform(X)\n",
    "\n",
    "pca_df = pd.DataFrame(result, columns = ['x','y'])\n",
    "\n",
    "#add the words for the hover effect\n",
    "pca_df['word'] = words\n",
    "pca_df.head()"
   ]
  },
  {
   "cell_type": "code",
   "execution_count": 89,
   "id": "b4f68f08",
   "metadata": {},
   "outputs": [],
   "source": [
    "# w2v.wv['ящерица'].reshape((1, 5))"
   ]
  },
  {
   "cell_type": "code",
   "execution_count": 90,
   "id": "ef9bccac",
   "metadata": {},
   "outputs": [],
   "source": [
    "# # КРАСИВЫЙ ГРАФИК НЕ УДАЛЯТЬ, ТЯЖЁЛЫЙ\n",
    "\n",
    "# # облако слов в word2vec\n",
    "\n",
    "# fig = go.Figure(data=go.Scattergl(\n",
    "#    x = pca_df['x'],\n",
    "#    y = pca_df['y'],\n",
    "#    mode='markers',\n",
    "#    marker=dict(\n",
    "#        color=np.random.randn(1000000),\n",
    "#        colorscale='Viridis',\n",
    "#        line_width=1\n",
    "#    ),\n",
    "#    text=pca_df['word'],\n",
    "#    textposition=\"bottom center\"\n",
    "# ))\n",
    "\n",
    "# fig.show()"
   ]
  },
  {
   "cell_type": "code",
   "execution_count": 91,
   "id": "d090d7f6",
   "metadata": {},
   "outputs": [],
   "source": [
    "#######################"
   ]
  },
  {
   "cell_type": "code",
   "execution_count": 92,
   "id": "fbefca6c",
   "metadata": {},
   "outputs": [],
   "source": [
    "def get_word2vec(sentences, location):\n",
    "    \"\"\"Returns trained word2vec\n",
    "    \n",
    "    Args:\n",
    "        sentences: iterator for sentences\n",
    "        \n",
    "        location (str): Path to save/load word2vec\n",
    "    \"\"\"\n",
    "    if os.path.exists(location):\n",
    "        print('Found {}'.format(location))\n",
    "        model = gensim.models.Word2Vec.load(location)\n",
    "        \n",
    "        return model\n",
    "    \n",
    "    print('{} not found. training model'.format(location))\n",
    "    model = gensim.models.Word2Vec(sentences, vector_size=1000000, window=5, min_count=1, workers=4)\n",
    "    print('Model done training. Saving to disk')\n",
    "    model.save(location)\n",
    "    \n",
    "    return model"
   ]
  },
  {
   "cell_type": "code",
   "execution_count": 93,
   "id": "e311488a",
   "metadata": {},
   "outputs": [
    {
     "name": "stdout",
     "output_type": "stream",
     "text": [
      "Found w2vmodel\n"
     ]
    }
   ],
   "source": [
    "# получили word2vec модель\n",
    "w2vec = get_word2vec(data['Text_lemming'].values, 'w2vmodel')"
   ]
  },
  {
   "cell_type": "code",
   "execution_count": 94,
   "id": "22d35c10",
   "metadata": {},
   "outputs": [],
   "source": [
    "class MyTokenizer:\n",
    "    def __init__(self):\n",
    "        pass\n",
    "    \n",
    "    def fit(self, X, y=None):\n",
    "        return self\n",
    "    \n",
    "    def transform(self, X):\n",
    "        transformed_X = []\n",
    "        for document in X:\n",
    "            tokenized_doc = []\n",
    "            for sent in nltk.sent_tokenize(document):\n",
    "                tokenized_doc += nltk.word_tokenize(sent)\n",
    "            transformed_X.append(np.array(tokenized_doc))\n",
    "            \n",
    "        return np.array(transformed_X)\n",
    "    \n",
    "    def fit_transform(self, X, y=None):\n",
    "        return self.transform(X)"
   ]
  },
  {
   "cell_type": "code",
   "execution_count": 95,
   "id": "1a381fec",
   "metadata": {},
   "outputs": [],
   "source": [
    "class MeanEmbeddingVectorizer(object):\n",
    "    def __init__(self, word2vec):\n",
    "        self.word2vec = word2vec\n",
    "        # if a text is empty we should return a vector of zeros\n",
    "        # with the same dimensionality as all the other vectors\n",
    "        self.dim = len(word2vec.wv.vectors[0])\n",
    "\n",
    "    def fit(self, X, y=None):\n",
    "        return self\n",
    "\n",
    "    def transform(self, X):\n",
    "        X = MyTokenizer().fit_transform(X)\n",
    "        \n",
    "        return np.array([\n",
    "            np.mean([self.word2vec.wv[w] for w in words if w in self.word2vec.wv]\n",
    "                    or [np.zeros(self.dim)], axis=0)\n",
    "            for words in X\n",
    "        ])\n",
    "    \n",
    "    def fit_transform(self, X, y=None):\n",
    "        return self.transform(X)"
   ]
  },
  {
   "cell_type": "code",
   "execution_count": 96,
   "id": "71982aa1",
   "metadata": {},
   "outputs": [],
   "source": [
    "mean_embedding_vectorizer = MeanEmbeddingVectorizer(w2vec)"
   ]
  },
  {
   "cell_type": "code",
   "execution_count": 97,
   "id": "10d614fe",
   "metadata": {},
   "outputs": [],
   "source": [
    "data['Text_lemming']  = data.apply(lambda x: re.sub(\"[^а-яА-Я]\",\" \", str(x.Text_lemming)), axis=1)"
   ]
  },
  {
   "cell_type": "code",
   "execution_count": 98,
   "id": "f0dc56a5",
   "metadata": {},
   "outputs": [],
   "source": [
    "data_w2v = mean_embedding_vectorizer.fit_transform(data['Text_lemming'])"
   ]
  },
  {
   "cell_type": "code",
   "execution_count": 99,
   "id": "50c0cc24",
   "metadata": {},
   "outputs": [
    {
     "data": {
      "text/plain": [
       "array([[-0.24142124,  0.36132833,  0.05865642, ..., -0.59690976,\n",
       "         0.24531595, -0.14608902],\n",
       "       [-0.23725532,  0.19169194,  0.10187268, ..., -0.5903245 ,\n",
       "         0.14617684, -0.17831407],\n",
       "       [-0.25105456,  0.29065934,  0.07373933, ..., -0.59783304,\n",
       "         0.18412456, -0.1674786 ],\n",
       "       ...,\n",
       "       [-0.2576041 ,  0.26807037,  0.09176932, ..., -0.60032606,\n",
       "         0.15801701, -0.18417282],\n",
       "       [-0.25090048,  0.26697296,  0.08838473, ..., -0.5888474 ,\n",
       "         0.16098289, -0.17785895],\n",
       "       [-0.2499942 ,  0.30853862,  0.07403792, ..., -0.6080254 ,\n",
       "         0.20462345, -0.16321534]], dtype=float32)"
      ]
     },
     "execution_count": 99,
     "metadata": {},
     "output_type": "execute_result"
    }
   ],
   "source": [
    "# на каждую книжку свой вектор\n",
    "data_w2v"
   ]
  },
  {
   "cell_type": "code",
   "execution_count": 100,
   "id": "fd71dff0",
   "metadata": {},
   "outputs": [],
   "source": [
    "# x_train_w2v, x_test_w2v, y_train_w2v, y_test_w2v = \\\n",
    "#     train_test_split(mean_embedded, data['Tag'], test_size = 0.2, random_state = 10)"
   ]
  },
  {
   "cell_type": "code",
   "execution_count": null,
   "id": "ed63221c",
   "metadata": {},
   "outputs": [],
   "source": []
  },
  {
   "cell_type": "markdown",
   "id": "2c676d48",
   "metadata": {},
   "source": [
    "**BERT**\n",
    "\n",
    "https://data.iori.ranepa.ru/nlp/bert_vectorizer.html"
   ]
  },
  {
   "cell_type": "code",
   "execution_count": null,
   "id": "0fb5bd1f",
   "metadata": {},
   "outputs": [],
   "source": []
  },
  {
   "cell_type": "markdown",
   "id": "cfe34972",
   "metadata": {},
   "source": [
    "**USE**"
   ]
  },
  {
   "cell_type": "code",
   "execution_count": null,
   "id": "d8877ce7",
   "metadata": {},
   "outputs": [],
   "source": []
  },
  {
   "cell_type": "markdown",
   "id": "ff95f8ad",
   "metadata": {},
   "source": [
    "## Обучение моделей на основе собственной векторизации"
   ]
  },
  {
   "cell_type": "code",
   "execution_count": 101,
   "id": "f6c04e46",
   "metadata": {},
   "outputs": [],
   "source": [
    "samples = [\n",
    "    [data_bag_words.drop(columns=['Tag']), data_bag_words['Tag'], 'bag_words'], # мешок слов\n",
    "    [data_TFIDF.drop(columns=['Tag']), data_TFIDF['Tag'], 'TFIDF'], # TFIDF\n",
    "    [data_w2v, data['Tag'], 'word2vec']\n",
    "]"
   ]
  },
  {
   "cell_type": "code",
   "execution_count": 102,
   "id": "5aef009b",
   "metadata": {},
   "outputs": [],
   "source": [
    "data_results = pd.DataFrame(columns=['Method_train', 'Method_vectorize', 'Log loss', 'Accuracy', 'Recall', 'F1-score', 'Time_add'])"
   ]
  },
  {
   "cell_type": "code",
   "execution_count": 103,
   "id": "eb33301a",
   "metadata": {},
   "outputs": [],
   "source": [
    "def evaluate_features(clf, method_train):\n",
    "    \n",
    "    data_results_temp = pd.DataFrame(columns=['Method_train', 'Method_vectorize', 'Log loss', 'Accuracy', 'Recall', 'F1-score', 'Time_add'])\n",
    "    \n",
    "    for X, y, method_vec in samples:\n",
    "        \n",
    "        probas = cross_val_predict(clf, \n",
    "                                   X, y, \n",
    "                                   cv=StratifiedKFold(n_splits=5), \n",
    "                                   n_jobs=-1, \n",
    "                                   method='predict_proba', \n",
    "                                   verbose=2)\n",
    "\n",
    "        pred_indices = np.argmax(probas, axis=1)\n",
    "        classes = np.unique(y)\n",
    "        preds = classes[pred_indices]\n",
    "\n",
    "        precision, recall, f1score = precision_recall_fscore_support(y, preds, average='macro')[:3]\n",
    "        \n",
    "        to_add = {'Method_vectorize': method_vec,\n",
    "                  'Method_train': method_train,\n",
    "                  'Log loss': log_loss(y, probas),\n",
    "                  'Accuracy': precision,\n",
    "                  'Recall': recall,\n",
    "                  'F1-score': f1score,\n",
    "                  'Time_add': datetime.datetime.now().strftime(\"%Y-%m-%d %H:%M:%S\")}\n",
    "\n",
    "        data_results_temp = data_results_temp.append(to_add, ignore_index=True)\n",
    "        \n",
    "    return data_results_temp"
   ]
  },
  {
   "cell_type": "markdown",
   "id": "cbaf8751",
   "metadata": {},
   "source": [
    "### Наивный классификатор Байеса"
   ]
  },
  {
   "cell_type": "code",
   "execution_count": 104,
   "id": "c1114b48",
   "metadata": {},
   "outputs": [
    {
     "name": "stderr",
     "output_type": "stream",
     "text": [
      "[Parallel(n_jobs=-1)]: Using backend LokyBackend with 16 concurrent workers.\n",
      "[Parallel(n_jobs=-1)]: Done   5 out of   5 | elapsed:    5.7s finished\n",
      "[Parallel(n_jobs=-1)]: Using backend LokyBackend with 16 concurrent workers.\n",
      "[Parallel(n_jobs=-1)]: Done   5 out of   5 | elapsed:    2.3s finished\n",
      "[Parallel(n_jobs=-1)]: Using backend LokyBackend with 16 concurrent workers.\n",
      "[Parallel(n_jobs=-1)]: Done   5 out of   5 | elapsed:    0.6s finished\n"
     ]
    }
   ],
   "source": [
    "result = evaluate_features(GaussianNB(), 'Наивный классификатор Байеса')"
   ]
  },
  {
   "cell_type": "code",
   "execution_count": 105,
   "id": "b157ecbd",
   "metadata": {},
   "outputs": [],
   "source": [
    "data_results = pd.concat([data_results, result])"
   ]
  },
  {
   "cell_type": "code",
   "execution_count": 106,
   "id": "443ba0b2",
   "metadata": {},
   "outputs": [
    {
     "data": {
      "text/html": [
       "<div>\n",
       "<style scoped>\n",
       "    .dataframe tbody tr th:only-of-type {\n",
       "        vertical-align: middle;\n",
       "    }\n",
       "\n",
       "    .dataframe tbody tr th {\n",
       "        vertical-align: top;\n",
       "    }\n",
       "\n",
       "    .dataframe thead th {\n",
       "        text-align: right;\n",
       "    }\n",
       "</style>\n",
       "<table border=\"1\" class=\"dataframe\">\n",
       "  <thead>\n",
       "    <tr style=\"text-align: right;\">\n",
       "      <th></th>\n",
       "      <th>Method_train</th>\n",
       "      <th>Method_vectorize</th>\n",
       "      <th>Log loss</th>\n",
       "      <th>Accuracy</th>\n",
       "      <th>Recall</th>\n",
       "      <th>F1-score</th>\n",
       "      <th>Time_add</th>\n",
       "    </tr>\n",
       "  </thead>\n",
       "  <tbody>\n",
       "    <tr>\n",
       "      <th>0</th>\n",
       "      <td>Наивный классификатор Байеса</td>\n",
       "      <td>bag_words</td>\n",
       "      <td>22.386244</td>\n",
       "      <td>0.265770</td>\n",
       "      <td>0.278648</td>\n",
       "      <td>0.264106</td>\n",
       "      <td>2023-02-04 13:12:08</td>\n",
       "    </tr>\n",
       "    <tr>\n",
       "      <th>1</th>\n",
       "      <td>Наивный классификатор Байеса</td>\n",
       "      <td>TFIDF</td>\n",
       "      <td>24.305065</td>\n",
       "      <td>0.219780</td>\n",
       "      <td>0.241685</td>\n",
       "      <td>0.221011</td>\n",
       "      <td>2023-02-04 13:12:11</td>\n",
       "    </tr>\n",
       "    <tr>\n",
       "      <th>2</th>\n",
       "      <td>Наивный классификатор Байеса</td>\n",
       "      <td>word2vec</td>\n",
       "      <td>18.906541</td>\n",
       "      <td>0.321542</td>\n",
       "      <td>0.347686</td>\n",
       "      <td>0.324036</td>\n",
       "      <td>2023-02-04 13:12:11</td>\n",
       "    </tr>\n",
       "  </tbody>\n",
       "</table>\n",
       "</div>"
      ],
      "text/plain": [
       "                   Method_train Method_vectorize   Log loss  Accuracy  \\\n",
       "0  Наивный классификатор Байеса        bag_words  22.386244  0.265770   \n",
       "1  Наивный классификатор Байеса            TFIDF  24.305065  0.219780   \n",
       "2  Наивный классификатор Байеса         word2vec  18.906541  0.321542   \n",
       "\n",
       "     Recall  F1-score             Time_add  \n",
       "0  0.278648  0.264106  2023-02-04 13:12:08  \n",
       "1  0.241685  0.221011  2023-02-04 13:12:11  \n",
       "2  0.347686  0.324036  2023-02-04 13:12:11  "
      ]
     },
     "execution_count": 106,
     "metadata": {},
     "output_type": "execute_result"
    }
   ],
   "source": [
    "result"
   ]
  },
  {
   "cell_type": "markdown",
   "id": "b3a24341",
   "metadata": {},
   "source": [
    "### Логистическая регрессия\n",
    "\n",
    "Вроде только для бинарной классификации..."
   ]
  },
  {
   "cell_type": "code",
   "execution_count": 107,
   "id": "dd05fdd6",
   "metadata": {},
   "outputs": [
    {
     "name": "stderr",
     "output_type": "stream",
     "text": [
      "[Parallel(n_jobs=-1)]: Using backend LokyBackend with 16 concurrent workers.\n",
      "[Parallel(n_jobs=-1)]: Done   5 out of   5 | elapsed:   24.1s finished\n",
      "[Parallel(n_jobs=-1)]: Using backend LokyBackend with 16 concurrent workers.\n",
      "[Parallel(n_jobs=-1)]: Done   5 out of   5 | elapsed:    4.6s finished\n",
      "[Parallel(n_jobs=-1)]: Using backend LokyBackend with 16 concurrent workers.\n",
      "[Parallel(n_jobs=-1)]: Done   5 out of   5 | elapsed:    0.0s finished\n"
     ]
    }
   ],
   "source": [
    "result = evaluate_features(LogisticRegression(), 'Логистическая регрессия')"
   ]
  },
  {
   "cell_type": "code",
   "execution_count": 108,
   "id": "94453c70",
   "metadata": {},
   "outputs": [],
   "source": [
    "data_results = pd.concat([data_results, result])"
   ]
  },
  {
   "cell_type": "code",
   "execution_count": 109,
   "id": "2ef1a6c2",
   "metadata": {},
   "outputs": [
    {
     "data": {
      "text/html": [
       "<div>\n",
       "<style scoped>\n",
       "    .dataframe tbody tr th:only-of-type {\n",
       "        vertical-align: middle;\n",
       "    }\n",
       "\n",
       "    .dataframe tbody tr th {\n",
       "        vertical-align: top;\n",
       "    }\n",
       "\n",
       "    .dataframe thead th {\n",
       "        text-align: right;\n",
       "    }\n",
       "</style>\n",
       "<table border=\"1\" class=\"dataframe\">\n",
       "  <thead>\n",
       "    <tr style=\"text-align: right;\">\n",
       "      <th></th>\n",
       "      <th>Method_train</th>\n",
       "      <th>Method_vectorize</th>\n",
       "      <th>Log loss</th>\n",
       "      <th>Accuracy</th>\n",
       "      <th>Recall</th>\n",
       "      <th>F1-score</th>\n",
       "      <th>Time_add</th>\n",
       "    </tr>\n",
       "  </thead>\n",
       "  <tbody>\n",
       "    <tr>\n",
       "      <th>0</th>\n",
       "      <td>Логистическая регрессия</td>\n",
       "      <td>bag_words</td>\n",
       "      <td>4.051366</td>\n",
       "      <td>0.432540</td>\n",
       "      <td>0.375987</td>\n",
       "      <td>0.385245</td>\n",
       "      <td>2023-02-04 13:12:36</td>\n",
       "    </tr>\n",
       "    <tr>\n",
       "      <th>1</th>\n",
       "      <td>Логистическая регрессия</td>\n",
       "      <td>TFIDF</td>\n",
       "      <td>2.282064</td>\n",
       "      <td>0.266440</td>\n",
       "      <td>0.255411</td>\n",
       "      <td>0.210390</td>\n",
       "      <td>2023-02-04 13:12:41</td>\n",
       "    </tr>\n",
       "    <tr>\n",
       "      <th>2</th>\n",
       "      <td>Логистическая регрессия</td>\n",
       "      <td>word2vec</td>\n",
       "      <td>2.297323</td>\n",
       "      <td>0.160237</td>\n",
       "      <td>0.210567</td>\n",
       "      <td>0.173155</td>\n",
       "      <td>2023-02-04 13:12:41</td>\n",
       "    </tr>\n",
       "  </tbody>\n",
       "</table>\n",
       "</div>"
      ],
      "text/plain": [
       "              Method_train Method_vectorize  Log loss  Accuracy    Recall  \\\n",
       "0  Логистическая регрессия        bag_words  4.051366  0.432540  0.375987   \n",
       "1  Логистическая регрессия            TFIDF  2.282064  0.266440  0.255411   \n",
       "2  Логистическая регрессия         word2vec  2.297323  0.160237  0.210567   \n",
       "\n",
       "   F1-score             Time_add  \n",
       "0  0.385245  2023-02-04 13:12:36  \n",
       "1  0.210390  2023-02-04 13:12:41  \n",
       "2  0.173155  2023-02-04 13:12:41  "
      ]
     },
     "execution_count": 109,
     "metadata": {},
     "output_type": "execute_result"
    }
   ],
   "source": [
    "result"
   ]
  },
  {
   "cell_type": "code",
   "execution_count": 110,
   "id": "dfad1899",
   "metadata": {},
   "outputs": [],
   "source": [
    "# for x_train, x_test, y_train, y_test, method_vec in samples:\n",
    "    \n",
    "#     logreg = LogisticRegression()\n",
    "#     logreg.fit(x_train, y_train)\n",
    "    \n",
    "#     to_add = {'Method_vectorize': method_vec,\n",
    "#               'Method_train': 'Лог. регрессия',\n",
    "#               'Accuracy': logreg.score(x_test, y_test),\n",
    "#               'Time_add': datetime.datetime.now().strftime(\"%Y-%m-%d %H:%M:%S\")}\n",
    "    \n",
    "#     data_results = data_results.append(to_add, ignore_index=True)"
   ]
  },
  {
   "cell_type": "markdown",
   "id": "1e7027ed",
   "metadata": {},
   "source": [
    "### Метод опорных векторов"
   ]
  },
  {
   "cell_type": "code",
   "execution_count": 111,
   "id": "ef97f047",
   "metadata": {},
   "outputs": [
    {
     "name": "stderr",
     "output_type": "stream",
     "text": [
      "[Parallel(n_jobs=-1)]: Using backend LokyBackend with 16 concurrent workers.\n",
      "[Parallel(n_jobs=-1)]: Done   5 out of   5 | elapsed:    2.5s finished\n",
      "[Parallel(n_jobs=-1)]: Using backend LokyBackend with 16 concurrent workers.\n",
      "[Parallel(n_jobs=-1)]: Done   5 out of   5 | elapsed:    2.4s finished\n",
      "[Parallel(n_jobs=-1)]: Using backend LokyBackend with 16 concurrent workers.\n",
      "[Parallel(n_jobs=-1)]: Done   5 out of   5 | elapsed:    0.0s finished\n"
     ]
    }
   ],
   "source": [
    "result = evaluate_features(svm.SVC(probability=True), 'Метод опорных векторов')"
   ]
  },
  {
   "cell_type": "code",
   "execution_count": 112,
   "id": "62c2aae3",
   "metadata": {},
   "outputs": [],
   "source": [
    "data_results = pd.concat([data_results, result])"
   ]
  },
  {
   "cell_type": "code",
   "execution_count": 113,
   "id": "ecdd3204",
   "metadata": {},
   "outputs": [
    {
     "data": {
      "text/html": [
       "<div>\n",
       "<style scoped>\n",
       "    .dataframe tbody tr th:only-of-type {\n",
       "        vertical-align: middle;\n",
       "    }\n",
       "\n",
       "    .dataframe tbody tr th {\n",
       "        vertical-align: top;\n",
       "    }\n",
       "\n",
       "    .dataframe thead th {\n",
       "        text-align: right;\n",
       "    }\n",
       "</style>\n",
       "<table border=\"1\" class=\"dataframe\">\n",
       "  <thead>\n",
       "    <tr style=\"text-align: right;\">\n",
       "      <th></th>\n",
       "      <th>Method_train</th>\n",
       "      <th>Method_vectorize</th>\n",
       "      <th>Log loss</th>\n",
       "      <th>Accuracy</th>\n",
       "      <th>Recall</th>\n",
       "      <th>F1-score</th>\n",
       "      <th>Time_add</th>\n",
       "    </tr>\n",
       "  </thead>\n",
       "  <tbody>\n",
       "    <tr>\n",
       "      <th>0</th>\n",
       "      <td>Метод опорных векторов</td>\n",
       "      <td>bag_words</td>\n",
       "      <td>2.443281</td>\n",
       "      <td>0.056548</td>\n",
       "      <td>0.133866</td>\n",
       "      <td>0.068329</td>\n",
       "      <td>2023-02-04 13:12:44</td>\n",
       "    </tr>\n",
       "    <tr>\n",
       "      <th>1</th>\n",
       "      <td>Метод опорных векторов</td>\n",
       "      <td>TFIDF</td>\n",
       "      <td>2.514470</td>\n",
       "      <td>0.031429</td>\n",
       "      <td>0.120879</td>\n",
       "      <td>0.049887</td>\n",
       "      <td>2023-02-04 13:12:46</td>\n",
       "    </tr>\n",
       "    <tr>\n",
       "      <th>2</th>\n",
       "      <td>Метод опорных векторов</td>\n",
       "      <td>word2vec</td>\n",
       "      <td>2.393737</td>\n",
       "      <td>0.068681</td>\n",
       "      <td>0.143856</td>\n",
       "      <td>0.092936</td>\n",
       "      <td>2023-02-04 13:12:46</td>\n",
       "    </tr>\n",
       "  </tbody>\n",
       "</table>\n",
       "</div>"
      ],
      "text/plain": [
       "             Method_train Method_vectorize  Log loss  Accuracy    Recall  \\\n",
       "0  Метод опорных векторов        bag_words  2.443281  0.056548  0.133866   \n",
       "1  Метод опорных векторов            TFIDF  2.514470  0.031429  0.120879   \n",
       "2  Метод опорных векторов         word2vec  2.393737  0.068681  0.143856   \n",
       "\n",
       "   F1-score             Time_add  \n",
       "0  0.068329  2023-02-04 13:12:44  \n",
       "1  0.049887  2023-02-04 13:12:46  \n",
       "2  0.092936  2023-02-04 13:12:46  "
      ]
     },
     "execution_count": 113,
     "metadata": {},
     "output_type": "execute_result"
    }
   ],
   "source": [
    "result"
   ]
  },
  {
   "cell_type": "code",
   "execution_count": 114,
   "id": "c5c8ddcb",
   "metadata": {},
   "outputs": [],
   "source": [
    "# for x_train, x_test, y_train, y_test, method_vec in samples:\n",
    "    \n",
    "#     metodsvm = svm.SVC()\n",
    "#     metodsvm.fit(x_train, y_train)\n",
    "    \n",
    "#     to_add = {'Method_vectorize': method_vec,\n",
    "#               'Method_train': 'Метод опорных векторов',\n",
    "#               'Accuracy': metodsvm.score(x_test, y_test),\n",
    "#               'Time_add': datetime.datetime.now().strftime(\"%Y-%m-%d %H:%M:%S\")}\n",
    "    \n",
    "#     data_results = data_results.append(to_add, ignore_index=True)"
   ]
  },
  {
   "cell_type": "markdown",
   "id": "89b07453",
   "metadata": {},
   "source": [
    "### Адаптивный бустинг"
   ]
  },
  {
   "cell_type": "code",
   "execution_count": null,
   "id": "a2a6cdd9",
   "metadata": {},
   "outputs": [
    {
     "name": "stderr",
     "output_type": "stream",
     "text": [
      "[Parallel(n_jobs=-1)]: Using backend LokyBackend with 16 concurrent workers.\n",
      "[Parallel(n_jobs=-1)]: Done   5 out of   5 | elapsed:   51.4s finished\n",
      "[Parallel(n_jobs=-1)]: Using backend LokyBackend with 16 concurrent workers.\n"
     ]
    }
   ],
   "source": [
    "result = evaluate_features(AdaBoostClassifier(base_estimator=DecisionTreeClassifier(max_depth=3), \n",
    "                                              n_estimators=200, random_state=42), \n",
    "                           'Адаптивный бустинг')"
   ]
  },
  {
   "cell_type": "code",
   "execution_count": null,
   "id": "9f46928a",
   "metadata": {},
   "outputs": [],
   "source": [
    "data_results = pd.concat([data_results, result])"
   ]
  },
  {
   "cell_type": "code",
   "execution_count": null,
   "id": "808a8ad3",
   "metadata": {},
   "outputs": [],
   "source": [
    "result"
   ]
  },
  {
   "cell_type": "code",
   "execution_count": null,
   "id": "32296e15",
   "metadata": {},
   "outputs": [],
   "source": [
    "# for x_train, x_test, y_train, y_test, method_vec in samples:\n",
    "    \n",
    "#     model_сlf = AdaBoostClassifier(base_estimator=DecisionTreeClassifier(max_depth=4), n_estimators=200, random_state=42)\n",
    "#     model_сlf.fit(x_train, y_train)\n",
    "    \n",
    "#     to_add = {'Method_vectorize': method_vec,\n",
    "#               'Method_train': 'Адаптивный бустинг',\n",
    "#               'Accuracy': model_сlf.score(x_test, y_test),\n",
    "#               'Time_add': datetime.datetime.now().strftime(\"%Y-%m-%d %H:%M:%S\")}\n",
    "    \n",
    "#     data_results = data_results.append(to_add, ignore_index=True)"
   ]
  },
  {
   "cell_type": "markdown",
   "id": "fc60c5c3",
   "metadata": {},
   "source": [
    "### Градиентный бустинг"
   ]
  },
  {
   "cell_type": "code",
   "execution_count": null,
   "id": "8dc4e710",
   "metadata": {},
   "outputs": [],
   "source": [
    "result = evaluate_features(GradientBoostingClassifier(max_depth=3, n_estimators=200, \n",
    "                                                      random_state=12, learning_rate=1), \n",
    "                           'Градиентный бустинг')"
   ]
  },
  {
   "cell_type": "code",
   "execution_count": null,
   "id": "9f2d676f",
   "metadata": {},
   "outputs": [],
   "source": [
    "data_results = pd.concat([data_results, result])"
   ]
  },
  {
   "cell_type": "code",
   "execution_count": null,
   "id": "f6fe53d5",
   "metadata": {},
   "outputs": [],
   "source": [
    "result"
   ]
  },
  {
   "cell_type": "code",
   "execution_count": null,
   "id": "5111e806",
   "metadata": {},
   "outputs": [],
   "source": [
    "# for x_train, x_test, y_train, y_test, method_vec in samples:\n",
    "    \n",
    "#     model_сlf = GradientBoostingClassifier(max_depth=3, n_estimators=200, random_state=12, learning_rate=1)\n",
    "#     model_сlf.fit(x_train, y_train)\n",
    "    \n",
    "#     to_add = {'Method_vectorize': method_vec,\n",
    "#               'Method_train': 'Градиентный бустинг',\n",
    "#               'Accuracy': model_сlf.score(x_test, y_test),\n",
    "#               'Time_add': datetime.datetime.now().strftime(\"%Y-%m-%d %H:%M:%S\")}\n",
    "    \n",
    "#     data_results = data_results.append(to_add, ignore_index=True)"
   ]
  },
  {
   "cell_type": "markdown",
   "id": "661c7c20",
   "metadata": {},
   "source": [
    "### Дальше бога нет - только нейронки и жаба"
   ]
  },
  {
   "attachments": {
    "image.png": {
     "image/png": "[encoded data removed]"
    }
   },
   "cell_type": "markdown",
   "id": "a1527da7",
   "metadata": {},
   "source": [
    "![image.png](attachment:image.png)"
   ]
  },
  {
   "cell_type": "code",
   "execution_count": null,
   "id": "9bfae722",
   "metadata": {},
   "outputs": [],
   "source": []
  },
  {
   "cell_type": "code",
   "execution_count": null,
   "id": "5ea818a6",
   "metadata": {},
   "outputs": [],
   "source": []
  },
  {
   "cell_type": "code",
   "execution_count": null,
   "id": "333287fe",
   "metadata": {},
   "outputs": [],
   "source": []
  },
  {
   "cell_type": "code",
   "execution_count": null,
   "id": "9b14351b",
   "metadata": {},
   "outputs": [],
   "source": []
  },
  {
   "cell_type": "markdown",
   "id": "6ef1f66c",
   "metadata": {},
   "source": [
    "## Обучение моделей на основе внешний предобученных моделей"
   ]
  },
  {
   "cell_type": "markdown",
   "id": "f6cb5e9d",
   "metadata": {},
   "source": [
    "### BERT русскоязычная малая\n",
    "\n",
    "https://habr.com/ru/post/567028/\n",
    "\n",
    "https://habr.com/ru/post/436878/\n",
    "\n",
    "https://github.com/shitkov/bert4classification/blob/main/bert4clssification.ipynb"
   ]
  },
  {
   "attachments": {
    "image.png": {
     "image/png": "[encoded data removed]"
    }
   },
   "cell_type": "markdown",
   "id": "dd8cfacf",
   "metadata": {},
   "source": [
    "![image.png](attachment:image.png)"
   ]
  },
  {
   "cell_type": "code",
   "execution_count": null,
   "id": "8661bff2",
   "metadata": {},
   "outputs": [],
   "source": [
    "# # wget.download('https://raw.githubusercontent.com/shitkov/bert4classification/main/train.csv')\n",
    "# # wget.download('https://raw.githubusercontent.com/shitkov/bert4classification/main/valid.csv')\n",
    "# # wget.download('https://raw.githubusercontent.com/shitkov/bert4classification/main/test.csv')\n",
    "# wget.download('https://raw.githubusercontent.com/shitkov/bert4classification/main/bert_classifier.py')\n",
    "# wget.download('https://raw.githubusercontent.com/shitkov/bert4classification/main/bert_dataset.py')\n",
    "# wget.download('https://raw.githubusercontent.com/shitkov/bert4classification/main/requirements.txt')"
   ]
  },
  {
   "cell_type": "code",
   "execution_count": null,
   "id": "b4c1e9a4",
   "metadata": {},
   "outputs": [],
   "source": [
    "x_train, x_test, y_train, y_test = \\\n",
    "    train_test_split(data.drop(columns='Tag'), data['Tag'], test_size = 0.2, random_state = 10)"
   ]
  },
  {
   "cell_type": "code",
   "execution_count": null,
   "id": "8ed2633b",
   "metadata": {},
   "outputs": [],
   "source": [
    "x_train, x_val, y_train, y_val = \\\n",
    "    train_test_split(x_train, y_train, test_size = 0.2, random_state = 10)"
   ]
  },
  {
   "cell_type": "code",
   "execution_count": null,
   "id": "44825791",
   "metadata": {},
   "outputs": [],
   "source": [
    "classifier = BertClassifier(\n",
    "        model_path='cointegrated/rubert-tiny',\n",
    "        tokenizer_path='cointegrated/rubert-tiny',\n",
    "        n_classes=7,\n",
    "        epochs=2,\n",
    "        model_save_path='/content/bert.pt'\n",
    ")"
   ]
  },
  {
   "cell_type": "code",
   "execution_count": null,
   "id": "c8c7a974",
   "metadata": {},
   "outputs": [],
   "source": [
    "data['Text_lemming']"
   ]
  },
  {
   "cell_type": "code",
   "execution_count": null,
   "id": "e04fc559",
   "metadata": {},
   "outputs": [],
   "source": [
    "list(x_train['Text_lemming'])"
   ]
  },
  {
   "cell_type": "code",
   "execution_count": null,
   "id": "cf744788",
   "metadata": {},
   "outputs": [],
   "source": [
    "classifier.preparation(\n",
    "        X_train=x_train,\n",
    "        y_train=y_train,\n",
    "        X_valid=x_val,\n",
    "        y_valid=y_val\n",
    "    )"
   ]
  },
  {
   "cell_type": "code",
   "execution_count": null,
   "id": "9029aee7",
   "metadata": {},
   "outputs": [],
   "source": [
    "classifier.train()"
   ]
  },
  {
   "cell_type": "code",
   "execution_count": null,
   "id": "ecee17a5",
   "metadata": {},
   "outputs": [],
   "source": [
    "texts = list(x_test['Text'])\n",
    "labels = list(y_test)\n",
    "\n",
    "predictions = [classifier.predict(t) for t in texts]"
   ]
  },
  {
   "cell_type": "code",
   "execution_count": null,
   "id": "9df2c592",
   "metadata": {},
   "outputs": [],
   "source": [
    "precision, recall, f1score = precision_recall_fscore_support(labels, predictions, average='macro')[:3]\n",
    "\n",
    "print(f'precision: {precision}, recall: {recall}, f1score: {f1score}')"
   ]
  },
  {
   "cell_type": "markdown",
   "id": "955bcd1c",
   "metadata": {},
   "source": [
    "## Анализ результатов"
   ]
  },
  {
   "cell_type": "code",
   "execution_count": null,
   "id": "1b94ebf6",
   "metadata": {},
   "outputs": [],
   "source": [
    "data_results"
   ]
  },
  {
   "cell_type": "code",
   "execution_count": null,
   "id": "238d394d",
   "metadata": {},
   "outputs": [],
   "source": []
  }
 ],
 "metadata": {
  "kernelspec": {
   "display_name": "Python 3 (ipykernel)",
   "language": "python",
   "name": "python3"
  },
  "language_info": {
   "codemirror_mode": {
    "name": "ipython",
    "version": 3
   },
   "file_extension": ".py",
   "mimetype": "text/x-python",
   "name": "python",
   "nbconvert_exporter": "python",
   "pygments_lexer": "ipython3",
   "version": "3.9.13"
  }
 },
 "nbformat": 4,
 "nbformat_minor": 5
}
